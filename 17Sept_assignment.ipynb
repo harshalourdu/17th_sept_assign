{
 "cells": [
  {
   "cell_type": "markdown",
   "id": "ead6fa26-a8e0-4166-bfb2-b03e30925a91",
   "metadata": {
    "jp-MarkdownHeadingCollapsed": true,
    "tags": []
   },
   "source": [
    "# For Loop :"
   ]
  },
  {
   "cell_type": "code",
   "execution_count": 1,
   "id": "2a37ae5d-6978-4e75-8228-32808d26fc24",
   "metadata": {},
   "outputs": [
    {
     "name": "stdout",
     "output_type": "stream",
     "text": [
      "1\n",
      "2\n",
      "3\n",
      "4\n",
      "5\n",
      "6\n",
      "7\n",
      "8\n",
      "9\n",
      "10\n"
     ]
    }
   ],
   "source": [
    "# 1. Write a Python program to print numbers from 1 to 10 using a for loop.\n",
    "\n",
    "for i in range(1, 11):\n",
    "    print(i)"
   ]
  },
  {
   "cell_type": "code",
   "execution_count": 3,
   "id": "43089827-6e66-4390-b9be-13a9f670d810",
   "metadata": {
    "tags": []
   },
   "outputs": [
    {
     "name": "stdout",
     "output_type": "stream",
     "text": [
      "Input list elements:\n",
      "10\n",
      "20\n",
      "30\n",
      "40\n",
      "50\n",
      "1\n",
      "2\n",
      "3\n",
      "4\n",
      "5\n",
      "6\n",
      "7\n",
      "8\n",
      "9\n"
     ]
    }
   ],
   "source": [
    "# 2. Explain the difference between a for loop and a while loop in Python.\n",
    "\n",
    "#For Loop\n",
    "inputList = [10, 20, 30, 40, 50]\n",
    "print(\"Input list elements:\")\n",
    "# traversing through all elements of the list using for loop\n",
    "for element in inputList:\n",
    "   # printing each element of the list\n",
    "   print(element)\n",
    "    \n",
    "#While Loop\n",
    "\n",
    "i = 1\n",
    "# Iterate until the given condition is true\n",
    "while i < 10:\n",
    "   # printing the current value of the above variable\n",
    "   print(i)\n",
    "   # incrementing the value of i value by 1\n",
    "   i += 1 "
   ]
  },
  {
   "cell_type": "code",
   "execution_count": 1,
   "id": "45c386b1-f608-4e7d-9b66-b28af7f39edd",
   "metadata": {},
   "outputs": [
    {
     "name": "stdout",
     "output_type": "stream",
     "text": [
      "5050\n"
     ]
    }
   ],
   "source": [
    "# 3. Write a Python program to calculate the sum of all numbers from 1 to 100 using a for loop.\n",
    "\n",
    "def sum_100_natural_numbers():\n",
    "    sum = 0\n",
    "    for i in range(1, 101):\n",
    "        sum = sum + i\n",
    "    return sum\n",
    "print(sum_100_natural_numbers())"
   ]
  },
  {
   "cell_type": "code",
   "execution_count": 4,
   "id": "8637c0cc-530d-49ee-a616-6cfb6a2c6d3f",
   "metadata": {},
   "outputs": [
    {
     "name": "stdout",
     "output_type": "stream",
     "text": [
      "1\n",
      "3\n",
      "5\n",
      "7\n",
      "9\n"
     ]
    }
   ],
   "source": [
    "# 4. How do you iterate through a list using a for loop in Python?\n",
    "\n",
    "# Python3 code to iterate over a list\n",
    "list = [1, 3, 5, 7, 9]\n",
    "  \n",
    "# Using for loop\n",
    "for i in list:\n",
    "    print(i)"
   ]
  },
  {
   "cell_type": "code",
   "execution_count": 5,
   "id": "2e81d6db-abb5-401c-93f1-3e3499d3d16c",
   "metadata": {},
   "outputs": [
    {
     "name": "stdout",
     "output_type": "stream",
     "text": [
      "6\n",
      "24\n"
     ]
    }
   ],
   "source": [
    "# 5. Write a Python program to find the product of all elements in a list using a for loop.\n",
    "\n",
    "def multiplyList(myList):\n",
    " \n",
    "    # Multiply elements one by one\n",
    "    result = 1\n",
    "    for x in myList:\n",
    "        result = result * x\n",
    "    return result\n",
    "list1 = [1, 2, 3]\n",
    "list2 = [3, 2, 4]\n",
    "print(multiplyList(list1))\n",
    "print(multiplyList(list2))"
   ]
  },
  {
   "cell_type": "code",
   "execution_count": 6,
   "id": "53656b73-26d7-45f0-a9b2-1e33904a15b9",
   "metadata": {},
   "outputs": [
    {
     "name": "stdout",
     "output_type": "stream",
     "text": [
      "4 6 8 10 12 14 "
     ]
    }
   ],
   "source": [
    "# 6. Create a Python program that prints all even numbers from 1 to 20 using a for loop.\n",
    "\n",
    "# Python program to print all even numbers  in range\n",
    "for even_numbers in range(4,15,2):\n",
    "  #here inside range function first no denotes starting,\n",
    "  #second denotes end and\n",
    "  #third denotes the interval\n",
    "    print(even_numbers,end=' ')"
   ]
  },
  {
   "cell_type": "code",
   "execution_count": 7,
   "id": "b6ee98a3-e9ec-4b7c-9f51-cac2333efd79",
   "metadata": {},
   "outputs": [
    {
     "name": "stdin",
     "output_type": "stream",
     "text": [
      "Enter a number:  5\n"
     ]
    },
    {
     "name": "stdout",
     "output_type": "stream",
     "text": [
      "Factorial of the given number is:  120\n"
     ]
    }
   ],
   "source": [
    "# 7. Write a Python program that calculates the factorial of a number using a for loop.\n",
    "\n",
    "n = int (input (\"Enter a number: \"))\n",
    "factorial = 1\n",
    "if n >= 1:\n",
    "    for i in range (1, n+1):\n",
    "        factorial=factorial *i\n",
    "print(\"Factorial of the given number is: \", factorial)"
   ]
  },
  {
   "cell_type": "code",
   "execution_count": 3,
   "id": "e143d323-238c-4029-a78b-18926c9ad79a",
   "metadata": {},
   "outputs": [
    {
     "name": "stdout",
     "output_type": "stream",
     "text": [
      "p w s k i l l s \n",
      "\n"
     ]
    }
   ],
   "source": [
    "#8. How can you iterate through the characters of a string using a for loop in Python?\n",
    "\n",
    "# Iterate over the string\n",
    "string_name = \"pwskills\"\n",
    "for element in string_name:\n",
    "    print(element, end=' ')\n",
    "print(\"\\n\")\n"
   ]
  },
  {
   "cell_type": "code",
   "execution_count": 4,
   "id": "c38aadec-ac65-4b5d-89fe-994e4dacfd61",
   "metadata": {},
   "outputs": [
    {
     "name": "stdout",
     "output_type": "stream",
     "text": [
      "Greatest number:  101\n"
     ]
    }
   ],
   "source": [
    "# 9. Write a Python program to find the largest number in a list using a for loop?\n",
    "\n",
    "numbers = [1, 2, 3, 5, 9, 6, 101, 88, 66, 6, 101, 55, -1001]\n",
    "maxi = numbers[0]\n",
    "\n",
    "for i in numbers:\n",
    "    if i > maxi:\n",
    "        maxi = i\n",
    "        \n",
    "print(\"Greatest number: \", maxi)"
   ]
  },
  {
   "cell_type": "code",
   "execution_count": 5,
   "id": "b2eb5d42-f959-4f25-b801-ed4368825328",
   "metadata": {},
   "outputs": [
    {
     "name": "stdin",
     "output_type": "stream",
     "text": [
      "How many terms?  10\n"
     ]
    },
    {
     "name": "stdout",
     "output_type": "stream",
     "text": [
      "Fibonacci sequence:\n",
      "0\n",
      "1\n",
      "1\n",
      "2\n",
      "3\n",
      "5\n",
      "8\n",
      "13\n",
      "21\n",
      "34\n"
     ]
    }
   ],
   "source": [
    "# 10. Create a Python program that prints the Fibonacci sequence up to a specified limit using a for\n",
    "# loop ?\n",
    "\n",
    "nterms = int(input(\"How many terms? \"))\n",
    "\n",
    "# first two terms\n",
    "n1, n2 = 0, 1\n",
    "count = 0\n",
    "\n",
    "# check if the number of terms is valid\n",
    "if nterms <= 0:\n",
    "   print(\"Please enter a positive integer\")\n",
    "# if there is only one term, return n1\n",
    "elif nterms == 1:\n",
    "   print(\"Fibonacci sequence upto\",nterms,\":\")\n",
    "   print(n1)\n",
    "# generate fibonacci sequence\n",
    "else:\n",
    "   print(\"Fibonacci sequence:\")\n",
    "   while count < nterms:\n",
    "       print(n1)\n",
    "       nth = n1 + n2\n",
    "       # update values\n",
    "       n1 = n2\n",
    "       n2 = nth\n",
    "       count += 1"
   ]
  },
  {
   "cell_type": "code",
   "execution_count": 6,
   "id": "a090f864-d135-4d42-93ad-ef73dd71b5c3",
   "metadata": {},
   "outputs": [
    {
     "name": "stdin",
     "output_type": "stream",
     "text": [
      "Enter the string : PWSKILLS\n"
     ]
    },
    {
     "name": "stdout",
     "output_type": "stream",
     "text": [
      "Total vowels are :1\n"
     ]
    }
   ],
   "source": [
    "# 11. Write a Python program to count the number of vowels in a given string using a for loop?\n",
    "\n",
    "String = input('Enter the string :')\n",
    "count = 0\n",
    "#to check for less conditions\n",
    "#keep string in lowercase\n",
    "String = String.lower()\n",
    "for i in String:\n",
    "    if i == 'a' or i == 'e' or i == 'i' or i == 'o' or i == 'u':\n",
    "        #if True\n",
    "        count+=1\n",
    "#check if any vowel found\n",
    "if count == 0:\n",
    "    print('No vowels found')\n",
    "else:\n",
    "    print('Total vowels are :' + str(count))"
   ]
  },
  {
   "cell_type": "code",
   "execution_count": 7,
   "id": "3df12dac-a9bd-419d-8a90-6ccd3d60afc0",
   "metadata": {},
   "outputs": [
    {
     "name": "stdout",
     "output_type": "stream",
     "text": [
      "12 x 1 = 12\n",
      "12 x 2 = 24\n",
      "12 x 3 = 36\n",
      "12 x 4 = 48\n",
      "12 x 5 = 60\n",
      "12 x 6 = 72\n",
      "12 x 7 = 84\n",
      "12 x 8 = 96\n",
      "12 x 9 = 108\n",
      "12 x 10 = 120\n"
     ]
    }
   ],
   "source": [
    "# 12. Create a Python program that generates a multiplication table for a given number using a for\n",
    "#loop?\n",
    "\n",
    "num = 12\n",
    "\n",
    "# To take input from the user\n",
    "# num = int(input(\"Display multiplication table of? \"))\n",
    "\n",
    "# Iterate 10 times from i = 1 to 10\n",
    "for i in range(1, 11):\n",
    "   print(num, 'x', i, '=', num*i)"
   ]
  },
  {
   "cell_type": "code",
   "execution_count": 8,
   "id": "15bcfc8e-b25c-42dd-973b-a87f2dfa8150",
   "metadata": {},
   "outputs": [
    {
     "name": "stdout",
     "output_type": "stream",
     "text": [
      "Original List: [1, 2, 3, 4, 5]\n",
      "Reversed List: [5, 4, 3, 2, 1]\n"
     ]
    }
   ],
   "source": [
    "# 13. Write a Python program to reverse a list using a for loop.\n",
    "\n",
    "my_list = [1,2,3,4,5]\n",
    "r_list = []\n",
    "\n",
    "for i in range(len(my_list)-1,-1,-1):\n",
    "    r_list.append(my_list[i])\n",
    "\n",
    "print(f\"Original List: {my_list}\")\n",
    "print(f\"Reversed List: {r_list}\")"
   ]
  },
  {
   "cell_type": "code",
   "execution_count": 9,
   "id": "4f73254e-6eb3-4257-b458-11998beed251",
   "metadata": {},
   "outputs": [
    {
     "name": "stdout",
     "output_type": "stream",
     "text": [
      "{5}\n",
      "No common elements\n"
     ]
    }
   ],
   "source": [
    "# 14. Write a Python program to find the common elements between two lists using a for loop.\n",
    "\n",
    "def common_member(a, b):\n",
    "    a_set = set(a)\n",
    "    b_set = set(b)\n",
    " \n",
    "    if (a_set & b_set):\n",
    "        print(a_set & b_set)\n",
    "    else:\n",
    "        print(\"No common elements\") \n",
    "          \n",
    "  \n",
    "a = [1, 2, 3, 4, 5]\n",
    "b = [5, 6, 7, 8, 9]\n",
    "common_member(a, b)\n",
    "  \n",
    "a = [1, 2, 3, 4, 5]\n",
    "b = [6, 7, 8, 9]\n",
    "common_member(a, b)"
   ]
  },
  {
   "cell_type": "code",
   "execution_count": 11,
   "id": "1555a7b9-de25-4cd4-8abb-49ac8d7210c5",
   "metadata": {},
   "outputs": [
    {
     "name": "stdout",
     "output_type": "stream",
     "text": [
      "dict_keys(['Gujarat', 'Maharashtra', 'Rajasthan', 'Bihar'])\n"
     ]
    }
   ],
   "source": [
    "# 15. Explain how to use a for loop to iterate through the keys and values of a dictionary in Python.\n",
    "\n",
    "statesAndCapitals = {\n",
    "    'Gujarat': 'Gandhinagar',\n",
    "    'Maharashtra': 'Mumbai',\n",
    "    'Rajasthan': 'Jaipur',\n",
    "    'Bihar': 'Patna'\n",
    "}\n",
    " \n",
    "keys = statesAndCapitals.keys()\n",
    "print(keys)"
   ]
  },
  {
   "cell_type": "code",
   "execution_count": 12,
   "id": "6104d2e1-426e-4f7f-9ae9-e394cd5efda8",
   "metadata": {},
   "outputs": [
    {
     "name": "stdout",
     "output_type": "stream",
     "text": [
      "The gcd of 60 and 48 is : 12\n"
     ]
    }
   ],
   "source": [
    "# 16. Write a Python program to find the GCD (Greatest Common Divisor) of two numbers using a for\n",
    "# loop.\n",
    "\n",
    "import math\n",
    " \n",
    "# prints 12\n",
    "print(\"The gcd of 60 and 48 is : \", end=\"\")\n",
    "print(math.gcd(60, 48))"
   ]
  },
  {
   "cell_type": "code",
   "execution_count": 13,
   "id": "84af3a20-e2ce-488f-8dd9-8ca1dfeaee75",
   "metadata": {},
   "outputs": [
    {
     "name": "stdin",
     "output_type": "stream",
     "text": [
      "Enter a word:  pwskills\n"
     ]
    },
    {
     "name": "stdout",
     "output_type": "stream",
     "text": [
      "pwskills is not a palindrome.\n",
      "pwskills is not a palindrome.\n",
      "pwskills is not a palindrome.\n",
      "pwskills is not a palindrome.\n",
      "pwskills is not a palindrome.\n",
      "pwskills is not a palindrome.\n",
      "pwskills is not a palindrome.\n",
      "pwskills is not a palindrome.\n"
     ]
    }
   ],
   "source": [
    "#17. Create a Python program that checks if a string is a palindrome using a for loop.\n",
    "\n",
    "# input word \n",
    "word = input(\"Enter a word: \")\n",
    "\n",
    "# make it case-INsensitive\n",
    "word = word.lower()\n",
    "\n",
    "# we also need the length of word to iterate over its range\n",
    "length_word = int(len(word))\n",
    "\n",
    "### use a for-loop\n",
    "for letter in range(len(word)):\n",
    "    if word[-length_word] == word[-1]:\n",
    "        print(word, \"is a palindrome.\")     \n",
    "        \n",
    "# if it doesn't match, its not a palindrome, print message\n",
    "    else:\n",
    "        print(word, \"is not a palindrome.\")"
   ]
  },
  {
   "cell_type": "code",
   "execution_count": 14,
   "id": "74905a64-f39c-4b94-8a70-404b07f32fc0",
   "metadata": {},
   "outputs": [
    {
     "name": "stdout",
     "output_type": "stream",
     "text": [
      "[2, 4, 10, 20, 5]\n"
     ]
    }
   ],
   "source": [
    "#18. Write a Python program to remove duplicates from a list using a for loop.\n",
    "\n",
    "def Remove(duplicate):\n",
    "    final_list = []\n",
    "    for num in duplicate:\n",
    "        if num not in final_list:\n",
    "            final_list.append(num)\n",
    "    return final_list\n",
    "     \n",
    "# Driver Code\n",
    "duplicate = [2, 4, 10, 20, 5, 2, 20, 4]\n",
    "print(Remove(duplicate))"
   ]
  },
  {
   "cell_type": "code",
   "execution_count": 15,
   "id": "d9afa25d-a9fe-46e3-a14e-87ac6da6e95a",
   "metadata": {},
   "outputs": [
    {
     "name": "stdout",
     "output_type": "stream",
     "text": [
      "Count of Words in the given Sentence: 6\n",
      "6\n"
     ]
    },
    {
     "name": "stdin",
     "output_type": "stream",
     "text": [
      "Enter Input: Geeksforgeeks\n"
     ]
    },
    {
     "name": "stdout",
     "output_type": "stream",
     "text": [
      "1\n"
     ]
    }
   ],
   "source": [
    "#19. Create a Python program that counts the number of words in a sentence using a for loop.\n",
    "\n",
    "countOfWords = len(\"Geeksforgeeks is best Computer Science Portal\".split())\n",
    "print(\"Count of Words in the given Sentence:\", countOfWords)\n",
    " \n",
    "# Quick One Line Codes\n",
    "print(len(\"Geeksforgeeks is best Computer Science Portal\".split()))\n",
    " \n",
    "# Quick One Line Code with User Input\n",
    "print(len(input(\"Enter Input:\").split()))"
   ]
  },
  {
   "cell_type": "code",
   "execution_count": 17,
   "id": "ff192a0c-1f1c-47be-8295-ce3ccb6ae176",
   "metadata": {},
   "outputs": [
    {
     "name": "stdout",
     "output_type": "stream",
     "text": [
      "Sum of Odd Number using for loop \n"
     ]
    },
    {
     "name": "stdin",
     "output_type": "stream",
     "text": [
      "Enter the starting value :  1\n",
      "Enter the ending value :  10\n"
     ]
    },
    {
     "name": "stdout",
     "output_type": "stream",
     "text": [
      "Sum of odd number is  25\n"
     ]
    }
   ],
   "source": [
    "#20. Write a Python program to find the sum of all odd numbers from 1 to 50 using a for loop.\n",
    "\n",
    "print(\"Sum of Odd Number using for loop \")\n",
    "\n",
    "start = int(input(\"Enter the starting value : \"))\n",
    "end   = int(input(\"Enter the ending value : \"))\n",
    "\n",
    "result=0\n",
    "\n",
    "for x in range(start,end):\n",
    "    if(x % 2 == 1):\n",
    "        result=result+x\n",
    "        \n",
    "print(\"Sum of odd number is \",result)"
   ]
  },
  {
   "cell_type": "code",
   "execution_count": 18,
   "id": "4b55203a-dcb0-4a36-8630-f4c993806af1",
   "metadata": {},
   "outputs": [
    {
     "name": "stdin",
     "output_type": "stream",
     "text": [
      "Enter the number:  150000\n"
     ]
    },
    {
     "name": "stdout",
     "output_type": "stream",
     "text": [
      "Given Year is a leap Year\n"
     ]
    }
   ],
   "source": [
    "#21. Write a Python program that checks if a given year is a leap year using a for loop.\n",
    "\n",
    "def CheckLeap(Year):  \n",
    "  # Checking if the given year is leap year  \n",
    "  if((Year % 400 == 0) or  \n",
    "     (Year % 100 != 0) and  \n",
    "     (Year % 4 == 0)):   \n",
    "    print(\"Given Year is a leap Year\");  \n",
    "  # Else it is not a leap year  \n",
    "  else:  \n",
    "    print (\"Given Year is not a leap Year\")  \n",
    "# Taking an input year from user  \n",
    "Year = int(input(\"Enter the number: \"))  \n",
    "# Printing result  \n",
    "CheckLeap(Year)  "
   ]
  },
  {
   "cell_type": "code",
   "execution_count": 25,
   "id": "0b177725-a7a8-4488-8322-3fb8fab05b62",
   "metadata": {},
   "outputs": [
    {
     "name": "stdout",
     "output_type": "stream",
     "text": [
      "Enter a Number: \n"
     ]
    },
    {
     "name": "stdin",
     "output_type": "stream",
     "text": [
      " 5\n"
     ]
    },
    {
     "name": "stdout",
     "output_type": "stream",
     "text": [
      "\n",
      "Square Root = 2.23606797749979\n"
     ]
    }
   ],
   "source": [
    "#22. Create a Python program that calculates the square root of a number using a for loop.\n",
    "\n",
    "print(\"Enter a Number: \")\n",
    "num = int(input())\n",
    "\n",
    "squareroot = num ** 0.5\n",
    "\n",
    "print(\"\\nSquare Root =\", squareroot)"
   ]
  },
  {
   "cell_type": "code",
   "execution_count": 26,
   "id": "cb2d0ef3-8451-4198-af21-4fed2fe3590d",
   "metadata": {},
   "outputs": [
    {
     "name": "stdout",
     "output_type": "stream",
     "text": [
      "LCM of 12 and 14 is 84\n"
     ]
    }
   ],
   "source": [
    "#23. Write a Python program to find the LCM (Least Common Multiple) of two numbers using a for\n",
    "#loop.\n",
    "\n",
    "num1 = 12\n",
    "num2 = 14\n",
    "for i in range(max(num1, num2), 1 + (num1 * num2), max(num1, num2)):\n",
    "    if i % num1 == i % num2 == 0:\n",
    "        lcm = i\n",
    "        break\n",
    "\n",
    "print(\"LCM of\", num1, \"and\", num2, \"is\", lcm)"
   ]
  },
  {
   "cell_type": "code",
   "execution_count": null,
   "id": "dad731cd-3aaa-445d-b84e-0553af27822b",
   "metadata": {},
   "outputs": [],
   "source": []
  },
  {
   "cell_type": "markdown",
   "id": "30ef44e4-2896-4851-baec-f3a97bdd2806",
   "metadata": {
    "jp-MarkdownHeadingCollapsed": true,
    "tags": []
   },
   "source": [
    "# if else"
   ]
  },
  {
   "cell_type": "code",
   "execution_count": 29,
   "id": "7b645149-4c2e-4922-a1dc-d8918749c81b",
   "metadata": {},
   "outputs": [
    {
     "name": "stdin",
     "output_type": "stream",
     "text": [
      "Enter a number as input value:  -100\n"
     ]
    },
    {
     "name": "stdout",
     "output_type": "stream",
     "text": [
      "Number given by you is Negative\n"
     ]
    }
   ],
   "source": [
    "#1. Write a Python program to check if a number is positive, negative, or zero using an if-else\n",
    "#statement.\n",
    "\n",
    "def NumberCheck(a):   \n",
    "    # Checking if the number is positive  \n",
    "    if a > 0:   \n",
    "        print(\"Number given by you is Positive\")   \n",
    "    # Checking if the number is negative   \n",
    "    elif a < 0:   \n",
    "        print(\"Number given by you is Negative\")   \n",
    "    # Else the number is zero  \n",
    "    else:   \n",
    "        print(\"Number given by you is zero\")  \n",
    "# Taking number from user  \n",
    "a = float(input(\"Enter a number as input value: \"))  \n",
    "# Printing result  \n",
    "NumberCheck(a)  "
   ]
  },
  {
   "cell_type": "code",
   "execution_count": 33,
   "id": "402faf5d-84b6-4049-acbc-ccf9d7207bce",
   "metadata": {},
   "outputs": [
    {
     "name": "stdin",
     "output_type": "stream",
     "text": [
      "Enter any number to test whether it is odd or even:  22\n"
     ]
    },
    {
     "name": "stdout",
     "output_type": "stream",
     "text": [
      "The number is even\n"
     ]
    }
   ],
   "source": [
    "#2. Create a Python program that checks if a given number is even or odd using an if-else statement.\n",
    "\n",
    "num = int (input (\"Enter any number to test whether it is odd or even: \"))\n",
    "\n",
    "if (num % 2) == 0:\n",
    "\n",
    "              print (\"The number is even\")\n",
    "\n",
    "else:\n",
    "\n",
    "              print (\"The provided number is odd\")"
   ]
  },
  {
   "cell_type": "code",
   "execution_count": 34,
   "id": "136ebdb4-c047-49be-99f8-94fb57605819",
   "metadata": {},
   "outputs": [
    {
     "name": "stdout",
     "output_type": "stream",
     "text": [
      "i is greater than 15\n",
      "i'm in else Block\n",
      "i'm not in if and not in else Block\n"
     ]
    }
   ],
   "source": [
    "#3. How can you use nested if-else statements in Python, and provide an example?\n",
    "\n",
    "i = 20;  \n",
    "if (i < 15):  \n",
    "    print (\"i is smaller than 15\")  \n",
    "    print (\"i'm in if Block\")  \n",
    "else:  \n",
    "    print (\"i is greater than 15\")  \n",
    "    print (\"i'm in else Block\")  \n",
    "print (\"i'm not in if and not in else Block\")  "
   ]
  },
  {
   "cell_type": "code",
   "execution_count": 35,
   "id": "e72bc476-a5c5-412b-8032-aa741aa2dc50",
   "metadata": {},
   "outputs": [
    {
     "name": "stdout",
     "output_type": "stream",
     "text": [
      "The largest number is 14\n"
     ]
    }
   ],
   "source": [
    "#4. Write a Python program to determine the largest of three numbers using if-else.\n",
    "\n",
    "num1 = 10\n",
    "num2 = 14\n",
    "num3 = 12\n",
    "\n",
    "# uncomment following lines to take three numbers from user\n",
    "#num1 = float(input(\"Enter first number: \"))\n",
    "#num2 = float(input(\"Enter second number: \"))\n",
    "#num3 = float(input(\"Enter third number: \"))\n",
    "\n",
    "if (num1 >= num2) and (num1 >= num3):\n",
    "   largest = num1\n",
    "elif (num2 >= num1) and (num2 >= num3):\n",
    "   largest = num2\n",
    "else:\n",
    "   largest = num3\n",
    "\n",
    "print(\"The largest number is\", largest)"
   ]
  },
  {
   "cell_type": "code",
   "execution_count": 36,
   "id": "96cd5008-98cb-4572-a72d-ab063824ba94",
   "metadata": {},
   "outputs": [
    {
     "name": "stdout",
     "output_type": "stream",
     "text": [
      "Absolute value of 5 =  5\n",
      "Absolute value of -5 =  5\n"
     ]
    }
   ],
   "source": [
    "#5. Write a Python program that calculates the absolute value of a number using if-else.\n",
    "\n",
    "def getAbsoluteValue(value):\n",
    "   # checking whether the number is less than 0\n",
    "   if(value<0):\n",
    "      # returning negative of the value if the condition is true\n",
    "      # i.e -(-) value becomes plus(+)\n",
    "      return -value\n",
    "   # returning the number passed\n",
    "   return value\n",
    "# calling the getAbsoluteValue() function by passing some random positive number\n",
    "print(\"Absolute value of 5 = \", getAbsoluteValue(5))\n",
    "# calling the getAbsoluteValue() function by passing some random negative number\n",
    "print(\"Absolute value of -5 = \", getAbsoluteValue(-5))"
   ]
  },
  {
   "cell_type": "code",
   "execution_count": 37,
   "id": "6c9deade-ccc9-4a59-b5fb-42defa9d3c8f",
   "metadata": {},
   "outputs": [
    {
     "name": "stdout",
     "output_type": "stream",
     "text": [
      "Consonant\n",
      "Vowel\n"
     ]
    }
   ],
   "source": [
    "#6. Create a Python program that checks if a given character is a vowel or consonant using if-else.\n",
    "def vowelOrConsonant(x): \n",
    "  \n",
    "    if (x == 'a' or x == 'e' or\n",
    "        x == 'i' or x == 'o' or x == 'u'): \n",
    "        print(\"Vowel\") \n",
    "    else: \n",
    "        print(\"Consonant\") \n",
    "  \n",
    "# Driver code \n",
    "vowelOrConsonant('c') \n",
    "vowelOrConsonant('e')"
   ]
  },
  {
   "cell_type": "code",
   "execution_count": 38,
   "id": "7e8c54d1-4018-448a-a286-cfa95be89ff2",
   "metadata": {},
   "outputs": [
    {
     "name": "stdin",
     "output_type": "stream",
     "text": [
      "Enter age :  55\n"
     ]
    },
    {
     "name": "stdout",
     "output_type": "stream",
     "text": [
      "Eligible for Voting!\n"
     ]
    }
   ],
   "source": [
    "#7. Write a Python program to determine if a user is eligible to vote based on their age using if-else.\n",
    "\n",
    "age = int(input(\"Enter age : \"))\n",
    "\n",
    "if age >= 18:\n",
    "    print(\"Eligible for Voting!\")\n",
    "else:\n",
    "    print(\"Not Eligible for Voting!\")"
   ]
  },
  {
   "cell_type": "code",
   "execution_count": 39,
   "id": "5619383d-1964-4fd8-944a-be590636635b",
   "metadata": {},
   "outputs": [
    {
     "name": "stdin",
     "output_type": "stream",
     "text": [
      "Enter Sale Amount:  100000\n"
     ]
    },
    {
     "name": "stdout",
     "output_type": "stream",
     "text": [
      "Discount :  30000.0\n",
      "Net Pay  :  70000.0\n"
     ]
    }
   ],
   "source": [
    "#8. Create a Python program that calculates the discount amount based on the purchase amount\n",
    "#using if-else.\n",
    "\n",
    "# input sale amount\n",
    "amt = int(input(\"Enter Sale Amount: \"))\n",
    "\n",
    "# checking conditions and calculating discount\n",
    "if(amt>0):\n",
    "    if amt<=5000:\n",
    "       disc = amt*0.05\n",
    "    elif amt<=15000:\n",
    "        disc=amt*0.12\n",
    "    elif amt<=25000:\n",
    "        disc=0.2 * amt\n",
    "    else:\n",
    "         disc=0.3 * amt\n",
    "\n",
    "    print(\"Discount : \",disc)\n",
    "    print(\"Net Pay  : \",amt-disc)\n",
    "else:\n",
    "    print(\"Invalid Amount\")"
   ]
  },
  {
   "cell_type": "code",
   "execution_count": 41,
   "id": "50326553-1703-450c-868f-d41823c35705",
   "metadata": {},
   "outputs": [
    {
     "name": "stdout",
     "output_type": "stream",
     "text": [
      "6\n"
     ]
    }
   ],
   "source": [
    "#9. Write a Python program to check if a number is within a specified range using if-else.\n",
    "\n",
    "def count(list1, l, r):\n",
    "    c = 0\n",
    "    # traverse in the list1\n",
    "    for x in list1:\n",
    "        # condition check\n",
    "        if x>= l and x<= r:\n",
    "            c+= 1\n",
    "    return c\n",
    "     \n",
    "# driver code\n",
    "list1 = [10, 20, 30, 40, 50, 40, 40, 60, 70]\n",
    "l = 40\n",
    "r = 80\n",
    "print (count(list1, l, r))"
   ]
  },
  {
   "cell_type": "code",
   "execution_count": 43,
   "id": "b3c27783-1d09-4073-8e2e-f38b808faffd",
   "metadata": {},
   "outputs": [
    {
     "name": "stdout",
     "output_type": "stream",
     "text": [
      "Enter Marks Obtained in 5 Subjects: \n",
      "Your Grade is B1\n"
     ]
    }
   ],
   "source": [
    "#10. Create a Python program that determines the grade of a student based on their score using\n",
    "#if-else.\n",
    "\n",
    "print(\"Enter Marks Obtained in 5 Subjects: \")\n",
    "total1 = 44\n",
    "total2 = 67\n",
    "total3 = 76\n",
    "total4 = 99\n",
    "total5 = 58\n",
    " \n",
    "tot = total1 + total2 + total3 + total4 + total4\n",
    "avg = tot / 5\n",
    " \n",
    "if avg >= 91 and avg <= 100:\n",
    "    print(\"Your Grade is A1\")\n",
    "elif avg >= 81 and avg < 91:\n",
    "    print(\"Your Grade is A2\")\n",
    "elif avg >= 71 and avg < 81:\n",
    "    print(\"Your Grade is B1\")\n",
    "elif avg >= 61 and avg < 71:\n",
    "    print(\"Your Grade is B2\")\n",
    "elif avg >= 51 and avg < 61:\n",
    "    print(\"Your Grade is C1\")\n",
    "elif avg >= 41 and avg < 51:\n",
    "    print(\"Your Grade is C2\")\n",
    "elif avg >= 33 and avg < 41:\n",
    "    print(\"Your Grade is D\")\n",
    "elif avg >= 21 and avg < 33:\n",
    "    print(\"Your Grade is E1\")\n",
    "elif avg >= 0 and avg < 21:\n",
    "    print(\"Your Grade is E2\")\n",
    "else:\n",
    "    print(\"Invalid Input!\")"
   ]
  },
  {
   "cell_type": "code",
   "execution_count": 44,
   "id": "6c7cb6fe-69eb-44fd-a096-eea080b5a335",
   "metadata": {},
   "outputs": [
    {
     "name": "stdout",
     "output_type": "stream",
     "text": [
      "The zero length string without spaces is empty ? : Yes\n",
      "The zero length string with just spaces is empty ? : No\n"
     ]
    }
   ],
   "source": [
    "#11. Write a Python program to check if a string is empty or not using if-else.\n",
    "\n",
    "test_str1 = \"\"\n",
    "test_str2 = \"  \"\n",
    " \n",
    "# checking if string is empty\n",
    "print(\"The zero length string without spaces is empty ? : \", end=\"\")\n",
    "if(len(test_str1) == 0):\n",
    "    print(\"Yes\")\n",
    "else:\n",
    "    print(\"No\")\n",
    " \n",
    "# prints No\n",
    "print(\"The zero length string with just spaces is empty ? : \", end=\"\")\n",
    "if(len(test_str2) == 0):\n",
    "    print(\"Yes\")\n",
    "else:\n",
    "    print(\"No\")"
   ]
  },
  {
   "cell_type": "code",
   "execution_count": 45,
   "id": "fbe29a44-9424-487e-819c-bcaa98411908",
   "metadata": {},
   "outputs": [
    {
     "name": "stdout",
     "output_type": "stream",
     "text": [
      "Scalene Triangle\n"
     ]
    }
   ],
   "source": [
    "#12. Create a Python program that identifies the type of a triangle (e.g., equilateral, isosceles, or\n",
    "#scalene) based on input values using if-else.\n",
    "\n",
    "def checkTriangle(x, y, z):\n",
    " \n",
    "    # _Check for equilateral triangle\n",
    "    if x == y == z:\n",
    "        print(\"Equilateral Triangle\")\n",
    " \n",
    "    # Check for isosceles triangle\n",
    "    elif x == y or y == z or z == x:\n",
    "        print(\"Isosceles Triangle\")\n",
    " \n",
    "    # Otherwise scalene triangle\n",
    "    else:\n",
    "        print(\"Scalene Triangle\")\n",
    " \n",
    " \n",
    "# Driver Code\n",
    " \n",
    "# Given sides of triangle\n",
    "x = 8\n",
    "y = 7\n",
    "z = 9\n",
    " \n",
    "# Function Call\n",
    "checkTriangle(x, y, z)"
   ]
  },
  {
   "cell_type": "code",
   "execution_count": 46,
   "id": "40668878-58a8-492f-b3a9-1c4fdab5e706",
   "metadata": {},
   "outputs": [
    {
     "name": "stdout",
     "output_type": "stream",
     "text": [
      "Sunday\n"
     ]
    }
   ],
   "source": [
    "#13. Write a Python program to determine the day of the week based on a user-provided number\n",
    "#using if-else.\n",
    "\n",
    "import datetime\n",
    "import calendar\n",
    " \n",
    "def findDay(date):\n",
    "    born = datetime.datetime.strptime(date, '%d %m %Y').weekday()\n",
    "    return (calendar.day_name[born])\n",
    " \n",
    "# Driver program\n",
    "date = '03 02 2019'\n",
    "print(findDay(date))"
   ]
  },
  {
   "cell_type": "code",
   "execution_count": 47,
   "id": "c1254434-cd67-42e0-9e20-24d92253e778",
   "metadata": {},
   "outputs": [
    {
     "name": "stdout",
     "output_type": "stream",
     "text": [
      "2000 is a leap year\n"
     ]
    }
   ],
   "source": [
    "#14. Create a Python program that checks if a given year is a leap year using both if-else and a\n",
    "#function.\n",
    "\n",
    "year = 2000\n",
    "\n",
    "# To get year (integer input) from the user\n",
    "# year = int(input(\"Enter a year: \"))\n",
    "\n",
    "# divided by 100 means century year (ending with 00)\n",
    "# century year divided by 400 is leap year\n",
    "if (year % 400 == 0) and (year % 100 == 0):\n",
    "    print(\"{0} is a leap year\".format(year))\n",
    "\n",
    "# not divided by 100 means not a century year\n",
    "# year divided by 4 is a leap year\n",
    "elif (year % 4 ==0) and (year % 100 != 0):\n",
    "    print(\"{0} is a leap year\".format(year))\n",
    "\n",
    "# if not divided by both 400 (century year) and 4 (not century year)\n",
    "# year is not leap year\n",
    "else:\n",
    "    print(\"{0} is not a leap year\".format(year))"
   ]
  },
  {
   "cell_type": "code",
   "execution_count": 55,
   "id": "4ed54b58-bead-4bb7-adf1-5728e20d233e",
   "metadata": {},
   "outputs": [
    {
     "name": "stdout",
     "output_type": "stream",
     "text": [
      "The value of a / b is : \n"
     ]
    },
    {
     "ename": "AssertionError",
     "evalue": "",
     "output_type": "error",
     "traceback": [
      "\u001b[0;31m---------------------------------------------------------------------------\u001b[0m",
      "\u001b[0;31mAssertionError\u001b[0m                            Traceback (most recent call last)",
      "Cell \u001b[0;32mIn[55], line 8\u001b[0m\n\u001b[1;32m      6\u001b[0m \u001b[38;5;66;03m# using assert to check for 0\u001b[39;00m\n\u001b[1;32m      7\u001b[0m \u001b[38;5;28mprint\u001b[39m(\u001b[38;5;124m\"\u001b[39m\u001b[38;5;124mThe value of a / b is : \u001b[39m\u001b[38;5;124m\"\u001b[39m)\n\u001b[0;32m----> 8\u001b[0m \u001b[38;5;28;01massert\u001b[39;00m b \u001b[38;5;241m!=\u001b[39m \u001b[38;5;241m0\u001b[39m\n\u001b[1;32m      9\u001b[0m \u001b[38;5;28mprint\u001b[39m(a \u001b[38;5;241m/\u001b[39m b)\n",
      "\u001b[0;31mAssertionError\u001b[0m: "
     ]
    }
   ],
   "source": [
    "#15. How do you use the \"assert\" statement in Python to add debugging checks within if-else blocks?\n",
    "\n",
    "a = 4\n",
    "b = 0\n",
    " \n",
    "# using assert to check for 0\n",
    "print(\"The value of a / b is : \")\n",
    "assert b != 0\n",
    "print(a / b)"
   ]
  },
  {
   "cell_type": "code",
   "execution_count": 66,
   "id": "f1669a5f-9c43-43e9-9007-171ef4f7d7b7",
   "metadata": {},
   "outputs": [
    {
     "name": "stdin",
     "output_type": "stream",
     "text": [
      "Enter you age:  62\n"
     ]
    },
    {
     "name": "stdout",
     "output_type": "stream",
     "text": [
      "You are a senior citizen\n"
     ]
    }
   ],
   "source": [
    "#16. Create a Python program that determines the eligibility of a person for a senior citizen discount\n",
    "#ased on age using if-else.\n",
    "\n",
    "age = int(input(\"Enter you age: \"))\n",
    "\n",
    "if age >= 60:\n",
    "    print(\"You are a senior citizen\")\n",
    "else:\n",
    "    print(\"You are not a senior citizen\")"
   ]
  },
  {
   "cell_type": "code",
   "execution_count": 67,
   "id": "6352a345-f54b-4591-90e1-1c90343afd75",
   "metadata": {},
   "outputs": [
    {
     "name": "stdout",
     "output_type": "stream",
     "text": [
      "A is an UpperCase character\n",
      "a is an LowerCase character\n",
      "0 is not an alphabetic character\n"
     ]
    }
   ],
   "source": [
    "#17. Write a Python program to categorize a given character as uppercase, lowercase, or neither\n",
    "#using if-else.\n",
    "\n",
    "def check(ch):\n",
    " \n",
    "    if (ch >= 'A' and ch <= 'Z'):\n",
    "        print(ch,\"is an UpperCase character\");\n",
    " \n",
    "    elif (ch >= 'a' and ch <= 'z'):\n",
    "        print(ch,\"is an LowerCase character\");\n",
    "    else:\n",
    "        print(ch,\"is not an alphabetic character\");\n",
    " \n",
    "# Driver Code\n",
    " \n",
    "# Get the character\n",
    "ch = 'A';\n",
    " \n",
    "# Check the character\n",
    "check(ch);\n",
    " \n",
    "# Get the character\n",
    "ch = 'a';\n",
    " \n",
    "# Check the character\n",
    "check(ch);\n",
    " \n",
    "# Get the character\n",
    "ch = '0';\n",
    " \n",
    "# Check the character\n",
    "check(ch);"
   ]
  },
  {
   "cell_type": "code",
   "execution_count": 1,
   "id": "ff14a01b-0c9d-43b7-935e-65ba5e2fbe1c",
   "metadata": {},
   "outputs": [
    {
     "name": "stdout",
     "output_type": "stream",
     "text": [
      "real and different roots\n",
      "2.0\n",
      "-12.0\n"
     ]
    }
   ],
   "source": [
    "#18. Write a Python program to determine the roots of a quadratic equation using if-else.\n",
    "\n",
    "import math \n",
    " \n",
    " \n",
    "# function for finding roots\n",
    "def equationroots( a, b, c): \n",
    " \n",
    "    # calculating discriminant using formula\n",
    "    dis = b * b - 4 * a * c \n",
    "    sqrt_val = math.sqrt(abs(dis)) \n",
    "     \n",
    "    # checking condition for discriminant\n",
    "    if dis > 0: \n",
    "        print(\"real and different roots\") \n",
    "        print((-b + sqrt_val)/(2 * a)) \n",
    "        print((-b - sqrt_val)/(2 * a)) \n",
    "     \n",
    "    elif dis == 0: \n",
    "        print(\"real and same roots\") \n",
    "        print(-b / (2 * a)) \n",
    "     \n",
    "    # when discriminant is less than 0\n",
    "    else:\n",
    "        print(\"Complex Roots\") \n",
    "        print(- b / (2 * a), + i, sqrt_val) \n",
    "        print(- b / (2 * a), - i, sqrt_val) \n",
    " \n",
    "# Driver Program \n",
    "a = 1\n",
    "b = 10\n",
    "c = -24\n",
    " \n",
    "# If a is 0, then incorrect equation\n",
    "if a == 0: \n",
    "        print(\"Input correct quadratic equation\") \n",
    " \n",
    "else:\n",
    "    equationroots(a, b, c)"
   ]
  },
  {
   "cell_type": "code",
   "execution_count": 2,
   "id": "31ac5016-4b55-41c5-abf3-200399ba5f28",
   "metadata": {},
   "outputs": [
    {
     "name": "stdout",
     "output_type": "stream",
     "text": [
      "21 century\n"
     ]
    }
   ],
   "source": [
    "# 19. Create a Python program that checks if a given year is a century year or not using if-else.\n",
    "\n",
    "def find_century(year): \n",
    "    \n",
    "    # No negative value is allow for year \n",
    "    if (year <= 0): \n",
    "        print(\"0 and negative is not allow for a year\") \n",
    "          \n",
    "    # If year is between 1 to 100 it \n",
    "    # will come in 1st century \n",
    "    elif (year <= 100): \n",
    "        print(\"1st century\") \n",
    "    elif (year % 100 == 0): \n",
    "        print(year // 100,\"century\") \n",
    "    else: \n",
    "        print(year // 100 + 1,\"century\") \n",
    "  \n",
    "# Driver code \n",
    "year = 2001\n",
    "find_century(year) "
   ]
  },
  {
   "cell_type": "code",
   "execution_count": 3,
   "id": "0d349dd7-d892-4861-8f53-b8b8f77d878f",
   "metadata": {},
   "outputs": [
    {
     "name": "stdout",
     "output_type": "stream",
     "text": [
      "No\n"
     ]
    }
   ],
   "source": [
    "#20. Write a Python program to determine if a given number is a perfect square using if-else.\n",
    "import math\n",
    " \n",
    " \n",
    "def isPerfectSquare(x):\n",
    " \n",
    "    #if x >= 0, \n",
    "    if(x >= 0):\n",
    "        sr = int(math.sqrt(x))\n",
    "        # sqrt function returns floating value so we have to convert it into integer\n",
    "        #return boolean T/F\n",
    "        return ((sr*sr) == x)\n",
    "    return false\n",
    " \n",
    "# Driver code\n",
    " \n",
    " \n",
    "x = 2502\n",
    "if (isPerfectSquare(x)):\n",
    "    print(\"Yes\")\n",
    "else:\n",
    "    print(\"No\")"
   ]
  },
  {
   "cell_type": "code",
   "execution_count": 8,
   "id": "e0a1f14b-6be1-46f5-b095-dee937bff18f",
   "metadata": {},
   "outputs": [
    {
     "name": "stdout",
     "output_type": "stream",
     "text": [
      "1 2 3 4 5 7 8 9 10 The firts number greater than 100 is.  105\n"
     ]
    }
   ],
   "source": [
    "#21. Explain the purpose of the \"continue\" and \"break\" statements within if-else loops.\n",
    "\n",
    "# Python program to demonstrate continue statement \n",
    "  \n",
    "# loop from 1 to 10 \n",
    "for i in range(1, 11): \n",
    "  \n",
    "    # If i is equals to 6, \n",
    "    # continue to next iteration \n",
    "    # without printing \n",
    "    if i == 6: \n",
    "        continue\n",
    "    else: \n",
    "        # otherwise print the value \n",
    "        # of i \n",
    "        print(i, end = \" \")\n",
    "        \n",
    "# Python program to demonstrate break statement \n",
    "\n",
    "numbers = [15 , 66 , 87 , 55 , 36 , 74 , 105 , 298 , 30 , 884]\n",
    "for num in numbers :\n",
    "    if num > 100 :\n",
    "        print(\"The firts number greater than 100 is. \" , num)\n",
    "        break"
   ]
  },
  {
   "cell_type": "code",
   "execution_count": 9,
   "id": "2917c075-4206-4987-869d-0d702ce08509",
   "metadata": {},
   "outputs": [
    {
     "name": "stdin",
     "output_type": "stream",
     "text": [
      " 60\n",
      " 155\n"
     ]
    },
    {
     "name": "stdout",
     "output_type": "stream",
     "text": [
      "Underweight\n"
     ]
    }
   ],
   "source": [
    "#22. Create a Python program that calculates the BMI (Body Mass Index) of a person based on their\n",
    "#weight and height using if-else.\n",
    "\n",
    "weight = int(input());\n",
    "height = float(input());\n",
    "x = weight/float(height*height);\n",
    "if x < 18.5:\n",
    "    print('Underweight')\n",
    "if x>=18.5 and x<25:\n",
    "    print(\"Normal\")\n",
    "if x >= 25 and x < 30:\n",
    "   print('Overweight')\n",
    "if x >= 30:\n",
    "   print('Obesity')\n"
   ]
  },
  {
   "cell_type": "code",
   "execution_count": 14,
   "id": "9e10c449-d184-4906-a80f-41fdf86880e8",
   "metadata": {},
   "outputs": [
    {
     "name": "stdout",
     "output_type": "stream",
     "text": [
      "[80, 90, 82, 90, 91, 84, 82, 94, 99, 89, 87, 81, 94]\n"
     ]
    }
   ],
   "source": [
    "#23. How can you use the \"filter()\" function with if-else statements to filter elements from a list?\n",
    "\n",
    "# Using the Filter() function \n",
    "numbers = [70, 60, 80, 90, 50,82,90,91,84,82,94,99,78,65,61,45,89,87,49,76,81,94]\n",
    " #function to check scores above 80\n",
    "def check_score(number):\n",
    "    if number >=80:\n",
    "          return True  \n",
    "\n",
    "    return False\n",
    "\n",
    "# Extract elements from the numbers list for which check_score() returns True\n",
    "#using filter function on list numbers to extract scores above 80\n",
    "percentage_score = filter(check_score, numbers)\n",
    "\n",
    "# converting to list\n",
    "scores = list(percentage_score)\n",
    "print(scores)"
   ]
  },
  {
   "cell_type": "code",
   "execution_count": 18,
   "id": "a6cacd4d-83fb-47b1-b04f-e926a156ba01",
   "metadata": {},
   "outputs": [
    {
     "name": "stdout",
     "output_type": "stream",
     "text": [
      "29 is a prime number\n"
     ]
    }
   ],
   "source": [
    "# 24. Write a Python program to determine if a given number is prime or not using if-else.\n",
    "\n",
    "num = 29\n",
    "\n",
    "# To take input from the user\n",
    "#num = int(input(\"Enter a number: \"))\n",
    "flag = False\n",
    "\n",
    "if num == 1:\n",
    "    print(num, \"is not a prime number\")\n",
    "elif num > 1:\n",
    "    # check for factors\n",
    "    for i in range(2, num):\n",
    "        if (num % i) == 0:\n",
    "            # if factor is found, set flag to True\n",
    "            flag = True\n",
    "            # break out of loop\n",
    "            break\n",
    "\n",
    "    # check if flag is True\n",
    "    if flag:\n",
    "        print(num, \"is not a prime number\")\n",
    "    else:\n",
    "        print(num, \"is a prime number\")"
   ]
  },
  {
   "cell_type": "code",
   "execution_count": null,
   "id": "2d4a678d-fadf-40e4-9524-f75749cb6fae",
   "metadata": {},
   "outputs": [],
   "source": []
  },
  {
   "cell_type": "code",
   "execution_count": null,
   "id": "0a23804d-a95e-4d65-9056-deb2bc6b689e",
   "metadata": {},
   "outputs": [],
   "source": []
  },
  {
   "cell_type": "markdown",
   "id": "e4d80653-d57b-4af6-adbd-09fd9afeebca",
   "metadata": {
    "jp-MarkdownHeadingCollapsed": true,
    "tags": []
   },
   "source": [
    "# MAP"
   ]
  },
  {
   "cell_type": "code",
   "execution_count": 19,
   "id": "2177cfda-5984-42b9-9cbb-69d552816106",
   "metadata": {},
   "outputs": [
    {
     "name": "stdout",
     "output_type": "stream",
     "text": [
      "[2, 4, 6, 8]\n"
     ]
    }
   ],
   "source": [
    "#1. Explain the purpose of the `map()` function in Python and provide an example of how it can be\n",
    "#used to apply a function to each element of an iterable.\n",
    "\n",
    "def addition(n):\n",
    "    return n + n\n",
    " \n",
    "# We double all numbers using map()\n",
    "numbers = (1, 2, 3, 4)\n",
    "result = map(addition, numbers)\n",
    "print(list(result))"
   ]
  },
  {
   "cell_type": "code",
   "execution_count": 20,
   "id": "7f9d3f1e-09f5-4f8f-9bcd-45e4175f33f2",
   "metadata": {},
   "outputs": [
    {
     "name": "stdout",
     "output_type": "stream",
     "text": [
      "Original List:  [4, 5, 2, 9]\n",
      "Square the elements of the said list using map():\n",
      "[16, 25, 4, 81]\n"
     ]
    }
   ],
   "source": [
    "#2. Write a Python program that uses the `map()` function to square each element of a list of\n",
    "#numbers.\n",
    "\n",
    "def square_num(n):\n",
    "  return n * n\n",
    "nums = [4, 5, 2, 9]\n",
    "print(\"Original List: \",nums)\n",
    "result = map(square_num, nums)\n",
    "print(\"Square the elements of the said list using map():\")\n",
    "print(list(result))"
   ]
  },
  {
   "cell_type": "code",
   "execution_count": 1,
   "id": "1798f055-f91a-4687-9022-ce6cb1e9beb7",
   "metadata": {},
   "outputs": [
    {
     "name": "stdout",
     "output_type": "stream",
     "text": [
      "<map object at 0x7f5378203400>\n",
      "[4, 88, 11.0, 12, -14]\n"
     ]
    }
   ],
   "source": [
    "#3. How does the `map()` function differ from a list comprehension in Python, and when would you\n",
    "#choose one over the other?\n",
    "\n",
    "#List comprehension are used when a list of results is required as map only returns a map object and does not return any list.\n",
    "\n",
    "#Map is faster in case of calling an already defined function (as no lambda is required).\n",
    "\n",
    "# function to double the number \n",
    "def num (n) : \n",
    "    return n * 2\n",
    "          \n",
    "lst = [2, 44, 5.5, 6, -7] \n",
    "  \n",
    "# suppose we want to call function \n",
    "# 'num' for each element of lst, \n",
    "# we use map \n",
    "  \n",
    "# creates a map object \n",
    "x = map(num, lst)  \n",
    "print(x)  \n",
    "  \n",
    "# returns list \n",
    "print(list(x)) "
   ]
  },
  {
   "cell_type": "code",
   "execution_count": 3,
   "id": "7b4892a4-33da-4655-bcb3-7c29c656279f",
   "metadata": {},
   "outputs": [
    {
     "data": {
      "text/plain": [
       "['JERRY', 'KRAMER', 'ELAINE', 'GEORGE', 'NEWMAN']"
      ]
     },
     "execution_count": 3,
     "metadata": {},
     "output_type": "execute_result"
    }
   ],
   "source": [
    "#4. Create a Python program that uses the `map()` function to convert a list of names to uppercase.\n",
    "\n",
    "names = ['Jerry', 'Kramer', 'Elaine', 'George', 'Newman']\n",
    "names_uppercase = []\n",
    "\n",
    "for name in names:\n",
    "  names_uppercase.append(name.upper())\n",
    "\n",
    "['JERRY', 'KRAMER', 'ELAINE', 'GEORGE', 'NEWMAN']"
   ]
  },
  {
   "cell_type": "code",
   "execution_count": 5,
   "id": "7c70380c-6e8d-485e-8097-b2c38f04b063",
   "metadata": {},
   "outputs": [],
   "source": [
    "#5. Write a Python program that uses the `map()` function to calculate the length of each word in a\n",
    "#list of strings.\n",
    "\n",
    "def myfunc(n):\n",
    "    return len(n)\n",
    "\n",
    "x = map(myfunc, ('apple', 'banana', 'cherry'))"
   ]
  },
  {
   "cell_type": "code",
   "execution_count": 6,
   "id": "edaa01dc-d66d-42c2-abfb-763e4d718fb1",
   "metadata": {},
   "outputs": [
    {
     "name": "stdout",
     "output_type": "stream",
     "text": [
      "[2, 4, 6]\n"
     ]
    }
   ],
   "source": [
    "#6. How can you use the `map()` function to apply a custom function to elements of multiple lists\n",
    "#simultaneously in Python?\n",
    "\n",
    "def double(integer):\n",
    "    return integer*2\n",
    " \n",
    " \n",
    "# driver code\n",
    "integer_list = [1, 2, 3]\n",
    " \n",
    "# Map method returns a map object\n",
    "# so we cast it into list using list()\n",
    "output_list = list(map(double, integer_list))\n",
    " \n",
    "print(output_list)"
   ]
  },
  {
   "cell_type": "code",
   "execution_count": 7,
   "id": "fc39551f-92d2-4f44-8a9f-9c5ace7beda7",
   "metadata": {},
   "outputs": [
    {
     "name": "stdin",
     "output_type": "stream",
     "text": [
      "Enter the Temperature in Celsius :\n",
      " 5\n"
     ]
    },
    {
     "name": "stdout",
     "output_type": "stream",
     "text": [
      "Temperature in Fahrenheit : 41.0\n"
     ]
    }
   ],
   "source": [
    "#7. Create a Python program that uses `map()` to convert a list of temperatures from Celsius to\n",
    "#Fahrenheit.\n",
    "\n",
    "celsius = int(input(\"Enter the Temperature in Celsius :\\n\"))\n",
    "fahrenheit = (1.8 * celsius) + 32\n",
    "print(\"Temperature in Fahrenheit :\", fahrenheit)"
   ]
  },
  {
   "cell_type": "code",
   "execution_count": 8,
   "id": "b6f4ec66-f009-45ac-9999-5b379e9499b7",
   "metadata": {},
   "outputs": [
    {
     "name": "stdout",
     "output_type": "stream",
     "text": [
      "15\n",
      "52\n",
      "52\n",
      "51\n"
     ]
    }
   ],
   "source": [
    "#8. Write a Python program that uses the `map()` function to round each element of a list of\n",
    "#floating-point numbers to the nearest integer.\n",
    "\n",
    "# for integers\n",
    "print(round(15))\n",
    " \n",
    "# for floating point\n",
    "print(round(51.6))\n",
    "print(round(51.5))\n",
    "print(round(51.4))"
   ]
  },
  {
   "cell_type": "code",
   "execution_count": null,
   "id": "d57de096-7fb4-4453-9336-58cb55f67ab4",
   "metadata": {},
   "outputs": [],
   "source": []
  },
  {
   "cell_type": "code",
   "execution_count": null,
   "id": "acd70730-612d-4479-ab3e-987f1da9acc5",
   "metadata": {},
   "outputs": [],
   "source": []
  },
  {
   "cell_type": "markdown",
   "id": "b4aebb35-a686-45b7-a745-3f359f90a933",
   "metadata": {
    "jp-MarkdownHeadingCollapsed": true,
    "tags": []
   },
   "source": [
    "# Reduce "
   ]
  },
  {
   "cell_type": "code",
   "execution_count": 9,
   "id": "22e60c9f-e707-4312-b081-f786355d3154",
   "metadata": {},
   "outputs": [
    {
     "name": "stdout",
     "output_type": "stream",
     "text": [
      "The sum of the list elements is : 17\n",
      "The maximum element of the list is : 6\n"
     ]
    }
   ],
   "source": [
    "#1. What is the `reduce()` function in Python, and what module should you import to use it? Provide\n",
    "#an example of its basic usage.\n",
    "\n",
    "#The reduce(fun,seq) function is used to apply a particular function passed in its argument to all of the list elements mentioned in the sequence passed along.This function is defined in “functools” module.\n",
    "\n",
    "# python code to demonstrate working of reduce() \n",
    "  \n",
    "# importing functools for reduce() \n",
    "import functools \n",
    "  \n",
    "# initializing list \n",
    "lis = [1, 3, 5, 6, 2] \n",
    "  \n",
    "# using reduce to compute sum of list \n",
    "print(\"The sum of the list elements is : \", end=\"\") \n",
    "print(functools.reduce(lambda a, b: a+b, lis)) \n",
    "  \n",
    "# using reduce to compute maximum element from list \n",
    "print(\"The maximum element of the list is : \", end=\"\") \n",
    "print(functools.reduce(lambda a, b: a if a > b else b, lis)) "
   ]
  },
  {
   "cell_type": "code",
   "execution_count": 10,
   "id": "58b572ea-256a-4834-bdfc-5db34b99c4c3",
   "metadata": {},
   "outputs": [
    {
     "name": "stdout",
     "output_type": "stream",
     "text": [
      "6\n",
      "24\n"
     ]
    }
   ],
   "source": [
    "#2. Write a Python program that uses the `reduce()` function to find the product of all elements in a\n",
    "#list.\n",
    "\n",
    "def multiplyList(myList):\n",
    " \n",
    "    # Multiply elements one by one\n",
    "    result = 1\n",
    "    for x in myList:\n",
    "        result = result * x\n",
    "    return result\n",
    " \n",
    " \n",
    "# Driver code\n",
    "list1 = [1, 2, 3]\n",
    "list2 = [3, 2, 4]\n",
    "print(multiplyList(list1))\n",
    "print(multiplyList(list2))"
   ]
  },
  {
   "cell_type": "code",
   "execution_count": 11,
   "id": "7ed16af9-6908-40f2-b812-c634faede0a3",
   "metadata": {},
   "outputs": [
    {
     "name": "stdout",
     "output_type": "stream",
     "text": [
      "Largest element is: 99\n"
     ]
    }
   ],
   "source": [
    "#3. Create a Python program that uses `reduce()` to find the maximum element in a list of numbers\n",
    "\n",
    "list1 = [10, 20, 4, 45, 99]\n",
    " \n",
    "# sorting the list\n",
    "list1.sort()\n",
    " \n",
    "# printing the last element\n",
    "print(\"Largest element is:\", list1[-1])"
   ]
  },
  {
   "cell_type": "code",
   "execution_count": 12,
   "id": "46fc8125-641f-47d6-a45d-c49725f1f454",
   "metadata": {},
   "outputs": [
    {
     "name": "stdout",
     "output_type": "stream",
     "text": [
      "apple, banana, orange, grape\n"
     ]
    }
   ],
   "source": [
    "#4. How can you use the `reduce()` function to concatenate a list of strings into a single string?\n",
    "\n",
    "from functools import reduce\n",
    "\n",
    "# Method 3: Using the reduce() function\n",
    "fruits = ['apple', 'banana', 'orange', 'grape']\n",
    "\n",
    "def concatenate_strings(str1, str2):\n",
    "    return str1 + ', ' + str2\n",
    "\n",
    "result = reduce(concatenate_strings, fruits)\n",
    "\n",
    "print(result)"
   ]
  },
  {
   "cell_type": "code",
   "execution_count": 13,
   "id": "3875b018-12a6-4c8c-93ca-0cb4fe6240f4",
   "metadata": {},
   "outputs": [
    {
     "name": "stdout",
     "output_type": "stream",
     "text": [
      "Factorial of 5 is 120\n"
     ]
    }
   ],
   "source": [
    "#5. Write a Python program that calculates the factorial of a number using the `reduce()` function.\n",
    "\n",
    "def factorial(n):\n",
    "     \n",
    "    # single line to find factorial\n",
    "    return 1 if (n==1 or n==0) else n * factorial(n - 1) \n",
    " \n",
    "# Driver Code\n",
    "num = 5\n",
    "print(\"Factorial of\",num,\"is\",factorial(num))"
   ]
  },
  {
   "cell_type": "code",
   "execution_count": 14,
   "id": "a9ed5c16-055f-4b2e-9a5a-8826b3608ec7",
   "metadata": {},
   "outputs": [
    {
     "name": "stdout",
     "output_type": "stream",
     "text": [
      "The gcd of 60 and 48 is : 12\n"
     ]
    }
   ],
   "source": [
    "#6. Create a Python program that uses `reduce()` to find the GCD (Greatest Common Divisor) of a list\n",
    "#of numbers.\n",
    "\n",
    "import math\n",
    " \n",
    "# prints 12\n",
    "print(\"The gcd of 60 and 48 is : \", end=\"\")\n",
    "print(math.gcd(60, 48))"
   ]
  },
  {
   "cell_type": "code",
   "execution_count": 15,
   "id": "ca94661e-e303-4e84-8dd7-67ac92a34679",
   "metadata": {},
   "outputs": [
    {
     "name": "stdout",
     "output_type": "stream",
     "text": [
      "15\n"
     ]
    }
   ],
   "source": [
    "#7. Write a Python program that uses the `reduce()` function to find the sum of the digits of a given\n",
    "#number.\n",
    "def getSum(n): \n",
    "    \n",
    "    sum = 0\n",
    "    for digit in str(n):  \n",
    "      sum += int(digit)       \n",
    "    return sum\n",
    "   \n",
    "n = 12345\n",
    "print(getSum(n))"
   ]
  },
  {
   "cell_type": "code",
   "execution_count": null,
   "id": "4d021c71-d235-4db8-866c-98e2c709ceeb",
   "metadata": {},
   "outputs": [],
   "source": []
  },
  {
   "cell_type": "code",
   "execution_count": null,
   "id": "bf8a2942-2dc6-4e70-b7a1-592de9746b3c",
   "metadata": {},
   "outputs": [],
   "source": []
  },
  {
   "cell_type": "markdown",
   "id": "7a85516f-a07e-4e7b-a1ae-ffd07c2d7a0a",
   "metadata": {
    "jp-MarkdownHeadingCollapsed": true,
    "tags": []
   },
   "source": [
    "# Filter "
   ]
  },
  {
   "cell_type": "code",
   "execution_count": 16,
   "id": "c2d14f8c-6251-4bfd-b5ff-62247353b238",
   "metadata": {},
   "outputs": [
    {
     "name": "stdout",
     "output_type": "stream",
     "text": [
      "[2, 4, 6, 8, 10]\n"
     ]
    }
   ],
   "source": [
    "#1. Explain the purpose of the `filter()` function in Python and provide an example of how it can be\n",
    "#used to filter elements from an iterable.\n",
    "\n",
    "\n",
    "# returns True if the argument passed is even\n",
    "\n",
    "def check_even(number):\n",
    "    if number % 2 == 0:\n",
    "          return True  \n",
    "\n",
    "    return False\n",
    "\n",
    "\n",
    "numbers = [1, 2, 3, 4, 5, 6, 7, 8, 9, 10]\n",
    "\n",
    "# if an element passed to check_even() returns True, select it\n",
    "even_numbers_iterator = filter(check_even, numbers)\n",
    "\n",
    "# converting to list\n",
    "even_numbers = list(even_numbers_iterator)\n",
    "\n",
    "print(even_numbers)"
   ]
  },
  {
   "cell_type": "code",
   "execution_count": 17,
   "id": "611fddfa-d5d7-4083-ada0-44443e62de9d",
   "metadata": {},
   "outputs": [
    {
     "name": "stdout",
     "output_type": "stream",
     "text": [
      "[2, 4]\n"
     ]
    }
   ],
   "source": [
    "#2. Write a Python program that uses the `filter()` function to select even numbers from a list of\n",
    "#integers.\n",
    "# Python code to filter even values from a list\n",
    " \n",
    "# Initialisation of list\n",
    "lis = [1, 2, 3, 4, 5]\n",
    " \n",
    "# Output list initialisation\n",
    "out = []\n",
    " \n",
    "for num in lis:\n",
    " \n",
    "    # checking condition\n",
    "    if num % 2 == 0:\n",
    "        out.append(num)\n",
    " \n",
    " \n",
    "# printing output\n",
    "print(out)"
   ]
  },
  {
   "cell_type": "code",
   "execution_count": 18,
   "id": "5a23f5d3-ed00-44ff-8ddd-c0b97a443bda",
   "metadata": {},
   "outputs": [
    {
     "name": "stdout",
     "output_type": "stream",
     "text": [
      "The original list : ['sapple', 'orange', 'smango', 'grape']\n",
      "The list without prefix s : ['orange', 'grape']\n",
      "The list with prefix s : ['sapple', 'smango']\n"
     ]
    }
   ],
   "source": [
    "#3. Create a Python program that uses the `filter()` function to select names that start with a specific\n",
    "#letter from a list of strings.\n",
    "test_list = ['sapple', 'orange', 'smango', 'grape']\n",
    " \n",
    "# initializing start Prefix\n",
    "start_letter = 's'\n",
    " \n",
    "# printing original list\n",
    "print(\"The original list : \" + str(test_list))\n",
    " \n",
    "# using list comprehension + startswith()\n",
    "# Prefix Separation\n",
    "with_s = [x for x in test_list if x.startswith(start_letter)]\n",
    "without_s = [x for x in test_list if x not in with_s]\n",
    " \n",
    "# print result\n",
    "print(\"The list without prefix s : \" + str(without_s))\n",
    "print(\"The list with prefix s : \" + str(with_s))"
   ]
  },
  {
   "cell_type": "code",
   "execution_count": 19,
   "id": "853116f3-b05c-482c-83c9-541d76d82cd1",
   "metadata": {},
   "outputs": [
    {
     "name": "stdout",
     "output_type": "stream",
     "text": [
      "List of integers:\n",
      "[1, 2, 3, 4, 5, 6, 7, 8, 9, 10, 11, 12, 13, 14, 15, 16, 17]\n",
      "\n",
      "Extract prime numbers of the said list:\n",
      "[2, 3, 5, 7, 11, 13, 17]\n"
     ]
    }
   ],
   "source": [
    "#4. Write a Python program that uses the `filter()` function to select prime numbers from a list of\n",
    "#integers.\n",
    "# Define a function to check if a number is prime\n",
    "def is_prime(n):\n",
    "    if n <= 1:\n",
    "        return False\n",
    "    if n <= 3:\n",
    "        return True\n",
    "    if n % 2 == 0 or n % 3 == 0:\n",
    "        return False\n",
    "    i = 5\n",
    "    while i * i <= n:\n",
    "        if n % i == 0 or n % (i + 2) == 0:\n",
    "            return False\n",
    "        i += 6\n",
    "    return True\n",
    "\n",
    "# Define a list of integers\n",
    "numbers = [1, 2, 3, 4, 5, 6, 7, 8, 9, 10, 11, 12, 13, 14, 15, 16, 17]\n",
    "print(\"List of integers:\")\n",
    "print(numbers)\n",
    "\n",
    "# Use the filter function to extract prime numbers\n",
    "prime_numbers = list(filter(is_prime, numbers))\n",
    "print(\"\\nExtract prime numbers of the said list:\")\n",
    "# Print the extracted prime numbers\n",
    "print(prime_numbers)"
   ]
  },
  {
   "cell_type": "code",
   "execution_count": 20,
   "id": "e792693f-f17c-4454-8677-b12141ac7020",
   "metadata": {},
   "outputs": [
    {
     "name": "stdout",
     "output_type": "stream",
     "text": [
      "The original list is : [1, None, 4, None, None, 5, 8, None]\n",
      "List after removal of None values : [1, 4, 5, 8]\n"
     ]
    }
   ],
   "source": [
    "#5. How can you use the `filter()` function to remove None values from a list in Python?\n",
    "\n",
    "test_list = [1, None, 4, None, None, 5, 8, None]\n",
    " \n",
    "# printing original list\n",
    "print (\"The original list is : \" + str(test_list))\n",
    " \n",
    "# using naive method\n",
    "# to remove None values in list\n",
    "res = []\n",
    "for val in test_list:\n",
    "    if val != None :\n",
    "        res.append(val)\n",
    " \n",
    "# printing result\n",
    "print (\"List after removal of None values : \" + str(res))"
   ]
  },
  {
   "cell_type": "code",
   "execution_count": 21,
   "id": "4f412855-6f39-4ed2-a373-aa0aa6ed1590",
   "metadata": {},
   "outputs": [
    {
     "name": "stdout",
     "output_type": "stream",
     "text": [
      "['quick', 'brown', 'jumps', 'over', 'lazy']\n"
     ]
    }
   ],
   "source": [
    "#6. Create a Python program that uses `filter()` to select words longer than a certain length from a\n",
    "#list of strings\n",
    "\n",
    "def long_words(n, str):\n",
    "    # Create an empty list 'word_len' to store words longer than 'n' characters\n",
    "    word_len = []\n",
    "\n",
    "    # Split the input string 'str' into a list of words using space as the delimiter\n",
    "    txt = str.split(\" \")\n",
    "\n",
    "    # Iterate through each word 'x' in the list of words 'txt'\n",
    "    for x in txt:\n",
    "        # Check if the length of the current word 'x' is greater than 'n'\n",
    "        if len(x) > n:\n",
    "            # If the word is longer than 'n' characters, add it to the 'word_len' list\n",
    "            word_len.append(x)\n",
    "\n",
    "    # Return the list of words longer than 'n' characters\n",
    "    return word_len\n",
    "\n",
    "# Call the 'long_words' function with an 'n' value of 3 and a string as input, and print the result\n",
    "print(long_words(3, \"The quick brown fox jumps over the lazy dog\"))"
   ]
  },
  {
   "cell_type": "code",
   "execution_count": 22,
   "id": "b58740d4-d40a-4381-815e-98e34356b14d",
   "metadata": {},
   "outputs": [
    {
     "name": "stdout",
     "output_type": "stream",
     "text": [
      "The original list : ['gfg', 'is', 'best', 'for', 'geeks']\n",
      "The above Threshold size strings are : ['best', 'geeks']\n"
     ]
    }
   ],
   "source": [
    "#7. Write a Python program that uses the `filter()` function to select elements greater than a\n",
    "#specified threshold from a list of values.\n",
    "test_list = ['gfg', 'is', 'best', 'for', 'geeks']\n",
    " \n",
    "# Printing original list\n",
    "print(\"The original list : \" + str(test_list))\n",
    " \n",
    "# Initialize Threshold\n",
    "thres = 4\n",
    " \n",
    "# Filter above Threshold size Strings\n",
    "# using list comprehension + len()\n",
    "res = [ele for ele in test_list if len(ele) >= thres]\n",
    " \n",
    "# Printing result\n",
    "print(\"The above Threshold size strings are : \" + str(res))"
   ]
  },
  {
   "cell_type": "code",
   "execution_count": null,
   "id": "22a9b6a1-bb24-46ba-9c8d-c4656f54b5bf",
   "metadata": {},
   "outputs": [],
   "source": []
  },
  {
   "cell_type": "code",
   "execution_count": null,
   "id": "35588992-bbe6-4457-bf7b-c760a5353d4b",
   "metadata": {},
   "outputs": [],
   "source": []
  },
  {
   "cell_type": "markdown",
   "id": "f6d45352-21ab-4fba-a0a6-63ba9f0ca0f6",
   "metadata": {
    "jp-MarkdownHeadingCollapsed": true,
    "tags": []
   },
   "source": [
    "# Recursion"
   ]
  },
  {
   "cell_type": "code",
   "execution_count": 23,
   "id": "010f4e29-219c-4cd4-a560-c6872d0cb0ac",
   "metadata": {},
   "outputs": [],
   "source": [
    "#1. Explain the concept of recursion in Python. How does it differ from iteration?\n",
    "\n",
    "#Recursion is defined as a process in which a function calls itself repeatedly.\n",
    "\n",
    "#Iteration is defined as the repetition of computational or mathematical procedure that continues until the controlling condition becomes false.\n",
    "\n"
   ]
  },
  {
   "cell_type": "code",
   "execution_count": 24,
   "id": "4f53f955-ac5c-42d4-9bc6-a6daf4a54425",
   "metadata": {},
   "outputs": [
    {
     "name": "stdout",
     "output_type": "stream",
     "text": [
      "The factorial of 7 is 5040\n"
     ]
    }
   ],
   "source": [
    "#2. Write a Python program to calculate the factorial of a number using recursion.\n",
    "# Factorial of a number using recursion\n",
    "\n",
    "def recur_factorial(n):\n",
    "   if n == 1:\n",
    "       return n\n",
    "   else:\n",
    "       return n*recur_factorial(n-1)\n",
    "\n",
    "num = 7\n",
    "\n",
    "# check if the number is negative\n",
    "if num < 0:\n",
    "   print(\"Sorry, factorial does not exist for negative numbers\")\n",
    "elif num == 0:\n",
    "   print(\"The factorial of 0 is 1\")\n",
    "else:\n",
    "   print(\"The factorial of\", num, \"is\", recur_factorial(num))"
   ]
  },
  {
   "cell_type": "code",
   "execution_count": 25,
   "id": "6c018d42-37bf-480a-aa66-73155c90b160",
   "metadata": {},
   "outputs": [
    {
     "name": "stdout",
     "output_type": "stream",
     "text": [
      "34\n"
     ]
    }
   ],
   "source": [
    "#3. Create a recursive Python function to find the nth Fibonacci number.\n",
    "def Fibonacci(n):\n",
    "    if n<= 0:\n",
    "        print(\"Incorrect input\")\n",
    "    # First Fibonacci number is 0\n",
    "    elif n == 1:\n",
    "        return 0\n",
    "    # Second Fibonacci number is 1\n",
    "    elif n == 2:\n",
    "        return 1\n",
    "    else:\n",
    "        return Fibonacci(n-1)+Fibonacci(n-2)\n",
    " \n",
    "# Driver Program\n",
    " \n",
    "print(Fibonacci(10))"
   ]
  },
  {
   "cell_type": "code",
   "execution_count": 26,
   "id": "5871986d-aa5a-4be8-87ae-ca6abd35eb76",
   "metadata": {},
   "outputs": [
    {
     "name": "stdout",
     "output_type": "stream",
     "text": [
      "28\n"
     ]
    }
   ],
   "source": [
    "#4. Write a recursive Python function to calculate the sum of all elements in a list.\n",
    "def sum_nestedlist( l ):\n",
    "   \n",
    "    # specify that global variable is\n",
    "    # referred to here in this function\n",
    "    total = 0\n",
    "     \n",
    "    for j in range(len(l)):\n",
    "       \n",
    "        if type(l[j]) == list :\n",
    "           \n",
    "            # call the same function if \n",
    "            # the element is a list\n",
    "            total+= sum_nestedlist(l[j])\n",
    "        else:\n",
    "           \n",
    "            # if it's a single element\n",
    "            # and not a list, add it to total \n",
    "            total += l[j]   \n",
    "             \n",
    "    return total\n",
    "             \n",
    "print(sum_nestedlist([[1,2,3],[4,[5,6]],7]))"
   ]
  },
  {
   "cell_type": "code",
   "execution_count": null,
   "id": "2f9777aa-f753-4572-afd9-b1dd9a31882d",
   "metadata": {},
   "outputs": [],
   "source": [
    "#5. How can you prevent a recursive function from running indefinitely, causing a stack overflow\n",
    "#error?\n",
    "\n",
    "#In order to prevent stack overflow bugs, you must have a base case where the function stops make new recursive calls. If there is no base case then the function calls will never stop and eventually a stack overflow will occur.\n",
    "\n",
    "def fizz(param):\n",
    "\n",
    "    print(param)\n",
    "    if param == 2:\n",
    "        return\n",
    "    fizz(param - 1)\n",
    "fizz(5)\n"
   ]
  },
  {
   "cell_type": "code",
   "execution_count": 28,
   "id": "d447e91a-e817-455a-a513-b554c754fc0f",
   "metadata": {},
   "outputs": [
    {
     "name": "stdout",
     "output_type": "stream",
     "text": [
      "GCD of 36 and 60 is 12\n"
     ]
    }
   ],
   "source": [
    "#6. Create a recursive Python function to find the greatest common divisor (GCD) of two numbers\n",
    "#using the Euclidean algorithm.\n",
    "num1 = 36\n",
    "num2 = 60\n",
    "gcd = 1\n",
    " \n",
    "for i in range(1, min(num1, num2)):\n",
    "    if num1 % i == 0 and num2 % i == 0:\n",
    "        gcd = i\n",
    "print(\"GCD of\", num1, \"and\", num2, \"is\", gcd)"
   ]
  },
  {
   "cell_type": "code",
   "execution_count": 29,
   "id": "7f85256c-06ef-4307-9904-825deb067533",
   "metadata": {},
   "outputs": [
    {
     "name": "stdout",
     "output_type": "stream",
     "text": [
      "The original string is : Geeksforgeeks\n",
      "The reversed string(using loops) is : skeegrofskeeG\n"
     ]
    }
   ],
   "source": [
    "#7. Write a recursive Python function to reverse a string.\n",
    "def reverse(s):\n",
    "    str = \"\"\n",
    "    for i in s:\n",
    "        str = i + str\n",
    "    return str\n",
    " \n",
    "s = \"Geeksforgeeks\"\n",
    " \n",
    "print(\"The original string is : \", end=\"\")\n",
    "print(s)\n",
    " \n",
    "print(\"The reversed string(using loops) is : \", end=\"\")\n",
    "print(reverse(s))"
   ]
  },
  {
   "cell_type": "code",
   "execution_count": 30,
   "id": "35953ddb-952a-4b4f-9d0f-da224f95c548",
   "metadata": {},
   "outputs": [
    {
     "name": "stdout",
     "output_type": "stream",
     "text": [
      "25\n"
     ]
    }
   ],
   "source": [
    "#8. Create a recursive Python function to calculate the power of a number (x^n).\n",
    "def power(N, P):\n",
    " \n",
    "    # If power is 0 then return 1\n",
    "    # if condition is true\n",
    "    # only then it will enter it,\n",
    "    # otherwise not\n",
    "    if P == 0:\n",
    "        return 1\n",
    " \n",
    "    # Recurrence relation\n",
    "    return (N*power(N, P-1))\n",
    " \n",
    " \n",
    "# Driver code\n",
    "if __name__ == '__main__':\n",
    "    N = 5\n",
    "    P = 2\n",
    " \n",
    "    print(power(N, P))"
   ]
  },
  {
   "cell_type": "code",
   "execution_count": 31,
   "id": "04644078-2e84-4628-80b8-ad8d094a4a73",
   "metadata": {},
   "outputs": [
    {
     "name": "stdout",
     "output_type": "stream",
     "text": [
      "ABC\n",
      "ACB\n",
      "BAC\n",
      "BCA\n",
      "CBA\n",
      "CAB\n"
     ]
    }
   ],
   "source": [
    "#9. Write a recursive Python function to find all permutations of a given string.\n",
    "def toString(List): \n",
    "    return ''.join(List) \n",
    "  \n",
    "# Function to print permutations of string \n",
    "# This function takes three parameters: \n",
    "# 1. String \n",
    "# 2. Starting index of the string \n",
    "# 3. Ending index of the string. \n",
    "  \n",
    "  \n",
    "def permute(a, l, r): \n",
    "    if l == r: \n",
    "        print(toString(a)) \n",
    "    else: \n",
    "        for i in range(l, r): \n",
    "            a[l], a[i] = a[i], a[l] \n",
    "            permute(a, l+1, r) \n",
    "            a[l], a[i] = a[i], a[l]  # backtrack \n",
    "  \n",
    "  \n",
    "# Driver code \n",
    "string = \"ABC\"\n",
    "n = len(string) \n",
    "a = list(string) \n",
    "  \n",
    "# Function call \n",
    "permute(a, 0, n)"
   ]
  },
  {
   "cell_type": "code",
   "execution_count": 35,
   "id": "bf9e762b-9b21-4c78-9dc9-c7ae51b8855f",
   "metadata": {},
   "outputs": [
    {
     "name": "stdout",
     "output_type": "stream",
     "text": [
      "Yes\n"
     ]
    }
   ],
   "source": [
    "#10. Write a recursive Python function to check if a string is a palindrome.\n",
    "def isPalRec(st, s, e) :\n",
    "     \n",
    "    # If there is only one character\n",
    "    if (s == e):\n",
    "        return True\n",
    " \n",
    "    # If first and last\n",
    "    # characters do not match\n",
    "    if (st[s] != st[e]) :\n",
    "        return False\n",
    " \n",
    "    # If there are more than \n",
    "    # two characters, check if \n",
    "    # middle substring is also \n",
    "    # palindrome or not.\n",
    "    if (s < e + 1) :\n",
    "        return isPalRec(st, s + 1, e - 1);\n",
    " \n",
    "    return True\n",
    "\n",
    "def isPalindrome(st) :\n",
    "    n = len(st)\n",
    "     \n",
    "    # An empty string is \n",
    "    # considered as palindrome\n",
    "    if (n == 0) :\n",
    "        return True\n",
    "     \n",
    "    return isPalRec(st, 0, n - 1);\n",
    "\n",
    "st = \"geeg\"\n",
    "if (isPalindrome(st)) :\n",
    "    print (\"Yes\")\n",
    "else :\n",
    "    print (\"No\")"
   ]
  },
  {
   "cell_type": "code",
   "execution_count": 36,
   "id": "38e76d68-7977-49ae-a4b1-e176124336f5",
   "metadata": {},
   "outputs": [
    {
     "name": "stdout",
     "output_type": "stream",
     "text": [
      "The original list is : [4, 5, 6, 7, 3, 8]\n",
      "The combinations of elements till length N : [(4,), (5,), (6,), (7,), (3,), (8,), (4, 5), (4, 6), (4, 7), (4, 3), (4, 8), (5, 6), (5, 7), (5, 3), (5, 8), (6, 7), (6, 3), (6, 8), (7, 3), (7, 8), (3, 8), (4, 5, 6), (4, 5, 7), (4, 5, 3), (4, 5, 8), (4, 6, 7), (4, 6, 3), (4, 6, 8), (4, 7, 3), (4, 7, 8), (4, 3, 8), (5, 6, 7), (5, 6, 3), (5, 6, 8), (5, 7, 3), (5, 7, 8), (5, 3, 8), (6, 7, 3), (6, 7, 8), (6, 3, 8), (7, 3, 8)]\n"
     ]
    }
   ],
   "source": [
    "#11. Create a recursive Python function to generate all possible combinations of a list of elements.\n",
    "from itertools import combinations\n",
    " \n",
    "# initializing list\n",
    "test_list = [4, 5, 6, 7, 3, 8]\n",
    " \n",
    "# printing original list\n",
    "print(\"The original list is : \" +  str(test_list))\n",
    " \n",
    "# Combinations of elements till size N in list\n",
    "# Using list comprehension + combinations()\n",
    "res = [com for sub in range(3) for com in combinations(test_list, sub + 1)]\n",
    " \n",
    "# Printing result\n",
    "print(\"The combinations of elements till length N : \" +  str(res))"
   ]
  },
  {
   "cell_type": "code",
   "execution_count": null,
   "id": "d3af74b6-e6ea-4c79-86f5-8fe7ce00d763",
   "metadata": {},
   "outputs": [],
   "source": []
  },
  {
   "cell_type": "code",
   "execution_count": null,
   "id": "4a8658c3-5441-42a5-bd2d-d05c5db24cc4",
   "metadata": {},
   "outputs": [],
   "source": []
  },
  {
   "cell_type": "markdown",
   "id": "d388f76f-3aa4-4b68-bd92-ca6881ef4149",
   "metadata": {
    "jp-MarkdownHeadingCollapsed": true,
    "tags": []
   },
   "source": [
    "# Basics of Functions"
   ]
  },
  {
   "cell_type": "markdown",
   "id": "4c27756f-90b0-4060-809a-7c846a5a2cd5",
   "metadata": {},
   "source": [
    "#1. What is a function in Python, and why is it used?\n",
    "\n",
    "A function is a block of code which only runs when it is called.\n",
    "\n",
    "You can pass data, known as parameters, into a function.\n",
    "\n",
    "A function can return data as a result."
   ]
  },
  {
   "cell_type": "code",
   "execution_count": 38,
   "id": "ebc8aaf6-a108-474d-819f-89d710990695",
   "metadata": {},
   "outputs": [
    {
     "name": "stdout",
     "output_type": "stream",
     "text": [
      "Hello from a function\n"
     ]
    }
   ],
   "source": [
    "#2. How do you define a function in Python? Provide an example?\n",
    "\n",
    "#A function is a block of code which only runs when it is called.\n",
    "\n",
    "#example\n",
    "\n",
    "def my_function():\n",
    "  print(\"Hello from a function\")\n",
    "my_function()"
   ]
  },
  {
   "cell_type": "markdown",
   "id": "41d497c9-4ba5-49bb-b80a-6b31cfbf2b58",
   "metadata": {},
   "source": [
    "#3. Explain the difference between a function definition and a function call.\n",
    "\n",
    "a function is a block of code that performs a specific task, while a function call is an expression that invokes a function and executes the code in the function."
   ]
  },
  {
   "cell_type": "code",
   "execution_count": 39,
   "id": "ebdea735-d4d7-4bb0-b3d7-fd50233ad291",
   "metadata": {},
   "outputs": [
    {
     "name": "stdout",
     "output_type": "stream",
     "text": [
      "Sum of 15 and 12 is 27\n"
     ]
    }
   ],
   "source": [
    "#4. Write a Python program that defines a function to calculate the sum of two numbers and then\n",
    "#calls the function.\n",
    "num1 = 15\n",
    "num2 = 12\n",
    " \n",
    "# Adding two nos\n",
    "sum = num1 + num2\n",
    " \n",
    "# printing values\n",
    "print(\"Sum of\", num1, \"and\", num2 , \"is\", sum)"
   ]
  },
  {
   "cell_type": "code",
   "execution_count": 40,
   "id": "45072661-71a6-4e24-a19b-8829578929fe",
   "metadata": {},
   "outputs": [
    {
     "name": "stdout",
     "output_type": "stream",
     "text": [
      "(x: str, y: int)\n",
      "x: str\n",
      "<class 'int'>\n"
     ]
    }
   ],
   "source": [
    "#5. What is a function signature, and what information does it typically include?\n",
    "from inspect import signature \n",
    "  \n",
    "  \n",
    "# declare a function gfg with some \n",
    "# parameter \n",
    "def gfg(x:str, y:int): \n",
    "    pass\n",
    "  \n",
    "# with the help of signature function \n",
    "# store signature of the function in \n",
    "# variable t \n",
    "t = signature(gfg) \n",
    "  \n",
    "# print the signature of the function \n",
    "print(t) \n",
    "  \n",
    "# print the annonation of the parameter \n",
    "# of the function \n",
    "print(t.parameters['x']) \n",
    "  \n",
    "# print the annonation of the parameter \n",
    "# of the function \n",
    "print(t.parameters['y'].annotation) "
   ]
  },
  {
   "cell_type": "code",
   "execution_count": 41,
   "id": "31e27c18-8525-42a8-a78e-2632aadd0574",
   "metadata": {},
   "outputs": [
    {
     "name": "stdout",
     "output_type": "stream",
     "text": [
      "geeksforgeeks\n",
      "20\n"
     ]
    }
   ],
   "source": [
    "#6. Create a Python function that takes two arguments and returns their product.\n",
    "class Test: \n",
    "    def __init__(self): \n",
    "        self.str = \"geeksforgeeks\"\n",
    "        self.x = 20\n",
    " \n",
    "# This function returns an object of Test \n",
    "def fun(): \n",
    "    return Test() \n",
    "     \n",
    "# Driver code to test above method \n",
    "t = fun() \n",
    "print(t.str) \n",
    "print(t.x) "
   ]
  },
  {
   "cell_type": "code",
   "execution_count": null,
   "id": "c08ab31b-3a79-4031-bcca-07ff38b137b4",
   "metadata": {},
   "outputs": [],
   "source": []
  },
  {
   "cell_type": "code",
   "execution_count": null,
   "id": "8c88d16c-c5f7-450a-a6af-7887c8f94aa4",
   "metadata": {},
   "outputs": [],
   "source": []
  },
  {
   "cell_type": "markdown",
   "id": "fc431ff0-2e4c-40b7-bcd4-68c9e42be268",
   "metadata": {
    "tags": []
   },
   "source": [
    "# Function Parameters and Arguments"
   ]
  },
  {
   "cell_type": "markdown",
   "id": "44d2b9b5-cd0d-44bc-8030-339c66b3a063",
   "metadata": {},
   "source": [
    "#1. Explain the concepts of formal parameters and actual arguments in Python functions.\n",
    "\n",
    "Formal Parameters in that Actual Parameters are values supplied to the function when it is invoked\n",
    "Formal Parameters are variables declared by the function that get values when the function is called."
   ]
  },
  {
   "cell_type": "code",
   "execution_count": 1,
   "id": "9e844ced-65b8-4f3a-b4d4-d661056dc4c1",
   "metadata": {},
   "outputs": [
    {
     "name": "stdout",
     "output_type": "stream",
     "text": [
      "John Mark studies in Fifth Standard\n",
      "John Gates studies in Seventh Standard\n",
      "John Gates studies in Fifth Standard\n",
      "John Seventh studies in Fifth Standard\n"
     ]
    }
   ],
   "source": [
    "#2. Write a Python program that defines a function with default argument values.\n",
    "def student(firstname, lastname ='Mark', standard ='Fifth'):\n",
    "     print(firstname, lastname, 'studies in', standard, 'Standard')\n",
    " \n",
    "# 1 positional argument\n",
    "student('John') \n",
    " \n",
    "# 3 positional arguments                         \n",
    "student('John', 'Gates', 'Seventh')     \n",
    " \n",
    "# 2 positional arguments  \n",
    "student('John', 'Gates')                  \n",
    "student('John', 'Seventh')"
   ]
  },
  {
   "cell_type": "code",
   "execution_count": 6,
   "id": "010ba37b-bfb6-4cc9-9a82-ff643b44cb44",
   "metadata": {},
   "outputs": [
    {
     "name": "stdout",
     "output_type": "stream",
     "text": [
      "Name:  miki\n",
      "Age  50\n"
     ]
    }
   ],
   "source": [
    "#3. How do you use keyword arguments in Python function calls? Provide an example.\n",
    "\n",
    "#!/usr/bin/python\n",
    "# Function definition is here\n",
    "def printinfo( name, age ):\n",
    "    \"This prints a passed info into this function\"\n",
    "    print (\"Name: \", name)\n",
    "    print (\"Age \", age)\n",
    "    return;\n",
    "# Now you can call printinfo function\n",
    "printinfo( age=50, name=\"miki\" )"
   ]
  },
  {
   "cell_type": "code",
   "execution_count": 8,
   "id": "b04df41c-88ac-4d34-90ac-42186b8b3134",
   "metadata": {},
   "outputs": [
    {
     "name": "stdout",
     "output_type": "stream",
     "text": [
      "9\n"
     ]
    }
   ],
   "source": [
    "#4. Create a Python function that accepts a variable number of arguments and calculates their sum.\n",
    "def add(num1, num2):\n",
    "   return num1+num2\n",
    "print(add(4,5))"
   ]
  },
  {
   "cell_type": "code",
   "execution_count": 9,
   "id": "93f5918f-3569-4bfb-9617-89f1e1b014ab",
   "metadata": {},
   "outputs": [
    {
     "name": "stdout",
     "output_type": "stream",
     "text": [
      "sum: 35\n"
     ]
    }
   ],
   "source": [
    "#5. What is the purpose of the `*args` and `**kwargs` syntax in function parameter lists?\n",
    "\n",
    "# *args (Non-Keyword Arguments)\n",
    "# **kwargs (Keyword Arguments)\n",
    "\n",
    "def adder(x,y,z):\n",
    "    print(\"sum:\",x+y+z)\n",
    "\n",
    "adder(10,12,13)"
   ]
  },
  {
   "cell_type": "code",
   "execution_count": null,
   "id": "91275017-b6a6-4eea-bfb0-ffc4a9f6fe52",
   "metadata": {},
   "outputs": [],
   "source": []
  },
  {
   "cell_type": "code",
   "execution_count": null,
   "id": "13f693de-c32b-44c3-92d3-965c8a6be8e2",
   "metadata": {},
   "outputs": [],
   "source": []
  },
  {
   "cell_type": "markdown",
   "id": "5874784b-0f99-470b-a2a3-e45e3d8ebf88",
   "metadata": {},
   "source": [
    "# Return Values and Scoping"
   ]
  },
  {
   "cell_type": "code",
   "execution_count": 10,
   "id": "100c4686-993d-4470-a610-8a0ba8b35cbf",
   "metadata": {},
   "outputs": [
    {
     "name": "stdout",
     "output_type": "stream",
     "text": [
      "Result of add function is 5\n",
      "\n",
      "Result of is_true function is True\n"
     ]
    }
   ],
   "source": [
    "#1. Describe the role of the `return` statement in Python functions and provide examples.\n",
    "\n",
    "# A return statement is used to end the execution of the function call and “returns” the result to the caller. \n",
    "\n",
    "def add(a, b):\n",
    " \n",
    "    # returning sum of a and b\n",
    "    return a + b\n",
    " \n",
    "def is_true(a):\n",
    " \n",
    "    # returning boolean of a\n",
    "    return bool(a)\n",
    " \n",
    "# calling function\n",
    "res = add(2, 3)\n",
    "print(\"Result of add function is {}\".format(res))\n",
    " \n",
    "res = is_true(2<5)\n",
    "print(\"\\nResult of is_true function is {}\".format(res))"
   ]
  },
  {
   "cell_type": "markdown",
   "id": "f7a74979-66f4-43e8-8e96-0b8479137482",
   "metadata": {},
   "source": [
    "#2. Explain the concept of variable scope in Python, including local and global variables.\n",
    "\n",
    "Global variables are those which are not defined inside any function and have a global scope whereas Python local variables are those which are defined inside a function and their scope is limited to that function only."
   ]
  },
  {
   "cell_type": "code",
   "execution_count": 12,
   "id": "aeff6508-daef-4755-bd75-d1e7adf77470",
   "metadata": {},
   "outputs": [
    {
     "name": "stdout",
     "output_type": "stream",
     "text": [
      "Inside Function I love pwskills\n",
      "Outside Function I love pwskills\n"
     ]
    }
   ],
   "source": [
    "#3. Write a Python program that demonstrates the use of global variables within functions.\n",
    "\n",
    "# This function uses global variable s\n",
    "def f():\n",
    "    print(\"Inside Function\", s)\n",
    " \n",
    "# Global scope\n",
    "s = \"I love pwskills\"\n",
    "f()\n",
    "print(\"Outside Function\", s)"
   ]
  },
  {
   "cell_type": "code",
   "execution_count": 13,
   "id": "9aea4045-34a7-4799-b1df-9c0a648e2caa",
   "metadata": {},
   "outputs": [
    {
     "name": "stdin",
     "output_type": "stream",
     "text": [
      "Input a number to compute the factorial:  5\n"
     ]
    },
    {
     "name": "stdout",
     "output_type": "stream",
     "text": [
      "120\n"
     ]
    }
   ],
   "source": [
    "#4. Create a Python function that calculates the factorial of a number and returns it.\n",
    "\n",
    "def factorial(n):\n",
    "    # Check if the number 'n' is 0\n",
    "    if n == 0:\n",
    "        # If 'n' is 0, return 1 (factorial of 0 is 1)\n",
    "        return 1\n",
    "    else:\n",
    "        # If 'n' is not 0, recursively call the 'factorial' function with (n-1) and multiply it with 'n'\n",
    "        return n * factorial(n - 1)\n",
    "\n",
    "# Ask the user to input a number to compute its factorial and store it in variable 'n'\n",
    "n = int(input(\"Input a number to compute the factorial: \"))\n",
    "\n",
    "# Print the factorial of the number entered by the user by calling the 'factorial' function\n",
    "print(factorial(n))"
   ]
  },
  {
   "cell_type": "code",
   "execution_count": 14,
   "id": "dd04995c-dce9-405f-a9a7-b2adfc0e068f",
   "metadata": {},
   "outputs": [
    {
     "name": "stdout",
     "output_type": "stream",
     "text": [
      "Local Hello\n",
      "Global Hello\n"
     ]
    }
   ],
   "source": [
    "#5. How can you access variables defined outside a function from within the function?\n",
    "\n",
    "#In Python, a variable declared outside of the function or in global scope is known as a global variable. \n",
    "#This means that a global variable can be accessed inside or outside of the function.\n",
    "\n",
    "# example :\n",
    "\n",
    "# declare global variable\n",
    "message = 'Hello'\n",
    "\n",
    "def greet():\n",
    "    # declare local variable\n",
    "    print('Local', message)\n",
    "\n",
    "greet()\n",
    "print('Global', message)"
   ]
  },
  {
   "cell_type": "code",
   "execution_count": null,
   "id": "f995cacd-d6d8-4879-93c9-bfe138b3fb63",
   "metadata": {},
   "outputs": [],
   "source": []
  },
  {
   "cell_type": "code",
   "execution_count": null,
   "id": "e49383d5-b908-4fb4-821b-2198fdb15e05",
   "metadata": {},
   "outputs": [],
   "source": []
  },
  {
   "cell_type": "markdown",
   "id": "e221c026-c892-4294-b59f-7d55606ef419",
   "metadata": {},
   "source": [
    "# Lambda Functions and Higher-Order Functions"
   ]
  },
  {
   "cell_type": "markdown",
   "id": "9319faa0-35b8-464c-890c-1c38938060a0",
   "metadata": {},
   "source": [
    "#1. Describe the role of built-in functions like `len()`, `max()`, and `min()` in Python.\n",
    "\n",
    "1. len() :- This function returns the length of list.\n",
    "List = [1, 2, 3, 1, 2, 1, 2, 3, 2, 1] print(len(List)) \n",
    "Output: 10\n",
    "\n",
    "2. min() :- This function returns the minimum element of list.\n",
    "List = [2.3, 4.445, 3, 5.33, 1.054, 2.5] print(min(List)) \n",
    "Output: 1.054\n",
    "\n",
    "3. max() :- This function returns the maximum element of list.\n",
    "List = [2.3, 4.445, 3, 5.33, 1.054, 2.5] print(max(List)) \n",
    "Output: 5.33"
   ]
  },
  {
   "cell_type": "code",
   "execution_count": 15,
   "id": "af558891-f7c4-4eb7-8d94-d1b50377ddef",
   "metadata": {},
   "outputs": [
    {
     "name": "stdout",
     "output_type": "stream",
     "text": [
      "[2, 4, 6, 8]\n"
     ]
    }
   ],
   "source": [
    "#2. Write a Python program that uses the `map()` function to apply a function to each element of a list.\n",
    "def addition(n):\n",
    "    return n + n\n",
    " \n",
    "# We double all numbers using map()\n",
    "numbers = (1, 2, 3, 4)\n",
    "result = map(addition, numbers)\n",
    "print(list(result))"
   ]
  },
  {
   "cell_type": "markdown",
   "id": "37778cce-1adc-477d-920c-a9d2bf62d617",
   "metadata": {},
   "source": [
    "#3. How does the `filter()` function work in Python, and when would you use it?\n",
    "\n",
    "The filter() method filters the given sequence with the help of a function that tests each element in the sequence to be true or not. \n",
    "\n",
    "Python filter() function is normally used with Lambda functions. "
   ]
  },
  {
   "cell_type": "code",
   "execution_count": 16,
   "id": "8025d98f-17c2-4130-87fa-7086e8caffc1",
   "metadata": {},
   "outputs": [
    {
     "name": "stdout",
     "output_type": "stream",
     "text": [
      "The sum of the list elements is : 17\n",
      "The maximum element of the list is : 6\n"
     ]
    }
   ],
   "source": [
    "#4. Create a Python program that uses the `reduce()` function to find the product of all elements in a list.\n",
    "\n",
    "import functools \n",
    "  \n",
    "# initializing list \n",
    "lis = [1, 3, 5, 6, 2] \n",
    "  \n",
    "# using reduce to compute sum of list \n",
    "print(\"The sum of the list elements is : \", end=\"\") \n",
    "print(functools.reduce(lambda a, b: a+b, lis)) \n",
    "  \n",
    "# using reduce to compute maximum element from list \n",
    "print(\"The maximum element of the list is : \", end=\"\") \n",
    "print(functools.reduce(lambda a, b: a if a > b else b, lis)) "
   ]
  },
  {
   "cell_type": "code",
   "execution_count": null,
   "id": "42e701c0-3ccb-4436-b83a-652d701fe033",
   "metadata": {},
   "outputs": [],
   "source": []
  },
  {
   "cell_type": "code",
   "execution_count": null,
   "id": "23443d13-4a81-4775-8467-cb3fc744df56",
   "metadata": {},
   "outputs": [],
   "source": []
  },
  {
   "cell_type": "markdown",
   "id": "ecc61a53-b34e-4a17-8d25-7d524d47f1c1",
   "metadata": {},
   "source": [
    "# Function Documentation and Best Practices:"
   ]
  },
  {
   "cell_type": "markdown",
   "id": "6b094384-be52-426f-9987-6197151e0cab",
   "metadata": {},
   "source": [
    "#1. Explain the purpose of docstrings in Python functions and how to write them.\n",
    "\n",
    "Python documentation strings (or docstrings) provide a convenient way of associating documentation with Python modules, functions, classes, and methods.\n",
    "\n",
    "It’s specified in source code that is used, like a comment, to document a specific segment of code.\n",
    "\n",
    "Declaring Docstrings: The docstrings are declared using ”’triple single quotes”’ or “”” triple double quotes “”” just below the class, method, or function declaration. All functions should have a docstring.\n",
    "\n",
    "Accessing Docstrings: The docstrings can be accessed using the __doc__ method of the object or using the help function. The below examples demonstrate how to declare and access a docstring.\n",
    "\n",
    "Docstrings in Python:\n",
    "    Triple-Quoted Strings\n",
    "    \n",
    "    Google Style Docstrings\n",
    "    \n",
    "    Numpydoc Style Docstrings\n",
    "    \n",
    "    One-line Docstrings\n",
    "    \n",
    "    Multi-line Docstrings\n",
    "    \n",
    "    Indentation in Docstrings\n",
    "    \n",
    "    Docstrings in Classes\n",
    "    \n",
    "    Difference between Python comments and docstrings\n"
   ]
  },
  {
   "cell_type": "markdown",
   "id": "02dd5f73-e39e-40af-80ea-d7d630d022c4",
   "metadata": {},
   "source": [
    "# 2.Describe some best practies for naming functions and variables in Python, including naming conventions and guidelines.\n",
    "\n",
    "In Python, the names of variables and functions should be lowercase. Individual words can be separated by underscores when needed. This will improve readability within your code. Method names should follow the same conventions as function names. \n",
    "\n",
    "1. Use descriptive and meaningful names\n",
    "Variable names should be descriptive and meaningful. They should describe what the variable represents or contains. For example, if you are writing a program that calculates the area of a circle, you might name your variable \"radius\" or \"area\". Avoid using generic or meaningless names such as \"x\" or \"temp\".\n",
    "\n",
    "2. Follow a consistent naming convention\n",
    "It's important to follow a consistent naming convention to make your code more readable and understandable. There are several naming conventions that you can follow, but the most common ones are:\n",
    "\n",
    "CamelCase: This convention capitalizes the first letter of each word except for the first word. For example, \"firstName\" or \"lastName\".\n",
    "snake_case: This convention uses underscores to separate words. For example, \"first_name\" or \"last_name\".\n",
    "Choose a naming convention and stick to it throughout your code.\n",
    "\n",
    "3. Avoid reserved keywords\n",
    "Avoid using reserved keywords as variable names. Python has several reserved keywords that have special meanings in the language. Using reserved keywords as variable names can cause syntax errors and make your code hard to read. Some examples of reserved keywords are \"if\", \"while\", \"for\", and \"print\".\n",
    "\n",
    "4. Don't use abbreviations\n",
    "Avoid using abbreviations in your variable names. Abbreviations can be confusing and may not be understandable to other developers. Instead, use full and descriptive names.\n",
    "\n",
    "5. Be mindful of variable scope\n",
    "Be mindful of the scope of your variables. Variables should be defined in the smallest possible scope to avoid naming conflicts and improve readability. For example, if you have a function that uses a variable, define that variable inside the function instead of at the global level.\n",
    "\n",
    "Here are some examples of good variable names in Python:\n",
    "\n",
    "# Example 1: Calculating the area of a circle\n",
    "radius = 5\n",
    "pi = 3.14\n",
    "area = pi * radius ** 2\n",
    "\n",
    "# Example 2: Storing a person's information\n",
    "first_name = \"John\"\n",
    "last_name = \"Doe\"\n",
    "age = 30"
   ]
  },
  {
   "cell_type": "code",
   "execution_count": null,
   "id": "4fafaf6c-ce22-4ab7-b18f-20d71043f971",
   "metadata": {},
   "outputs": [],
   "source": []
  }
 ],
 "metadata": {
  "kernelspec": {
   "display_name": "Python 3 (ipykernel)",
   "language": "python",
   "name": "python3"
  },
  "language_info": {
   "codemirror_mode": {
    "name": "ipython",
    "version": 3
   },
   "file_extension": ".py",
   "mimetype": "text/x-python",
   "name": "python",
   "nbconvert_exporter": "python",
   "pygments_lexer": "ipython3",
   "version": "3.10.8"
  }
 },
 "nbformat": 4,
 "nbformat_minor": 5
}
